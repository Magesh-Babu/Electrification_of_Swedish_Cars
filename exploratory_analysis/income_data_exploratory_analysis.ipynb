{
 "cells": [
  {
   "cell_type": "code",
   "execution_count": 1,
   "id": "42f8efae",
   "metadata": {},
   "outputs": [],
   "source": [
    "import numpy as np\n",
    "import pandas as pd\n",
    "import matplotlib.pyplot as plt\n",
    "import seaborn as sns"
   ]
  },
  {
   "cell_type": "code",
   "execution_count": 3,
   "id": "1abeb46f",
   "metadata": {},
   "outputs": [],
   "source": [
    "df = pd.read_csv('../data_extraction/csv_files/income_statistics.csv')"
   ]
  },
  {
   "cell_type": "code",
   "execution_count": 4,
   "id": "3e80b2f1",
   "metadata": {},
   "outputs": [
    {
     "name": "stdout",
     "output_type": "stream",
     "text": [
      "The shape of the dataset :  (46980, 4)\n"
     ]
    }
   ],
   "source": [
    "# print the shape\n",
    "print('The shape of the dataset : ', df.shape)"
   ]
  },
  {
   "cell_type": "code",
   "execution_count": 5,
   "id": "440663eb",
   "metadata": {},
   "outputs": [
    {
     "data": {
      "text/html": [
       "<div>\n",
       "<style scoped>\n",
       "    .dataframe tbody tr th:only-of-type {\n",
       "        vertical-align: middle;\n",
       "    }\n",
       "\n",
       "    .dataframe tbody tr th {\n",
       "        vertical-align: top;\n",
       "    }\n",
       "\n",
       "    .dataframe thead th {\n",
       "        text-align: right;\n",
       "    }\n",
       "</style>\n",
       "<table border=\"1\" class=\"dataframe\">\n",
       "  <thead>\n",
       "    <tr style=\"text-align: right;\">\n",
       "      <th></th>\n",
       "      <th>Region</th>\n",
       "      <th>AgeVariable</th>\n",
       "      <th>Year</th>\n",
       "      <th>AvgDisposibleIncome</th>\n",
       "    </tr>\n",
       "  </thead>\n",
       "  <tbody>\n",
       "    <tr>\n",
       "      <th>0</th>\n",
       "      <td>Upplands Väsby</td>\n",
       "      <td>all 20-64 years of age</td>\n",
       "      <td>1997</td>\n",
       "      <td>4.0</td>\n",
       "    </tr>\n",
       "    <tr>\n",
       "      <th>1</th>\n",
       "      <td>Upplands Väsby</td>\n",
       "      <td>all 20-64 years of age</td>\n",
       "      <td>1998</td>\n",
       "      <td>4.1</td>\n",
       "    </tr>\n",
       "    <tr>\n",
       "      <th>2</th>\n",
       "      <td>Upplands Väsby</td>\n",
       "      <td>all 20-64 years of age</td>\n",
       "      <td>1999</td>\n",
       "      <td>4.4</td>\n",
       "    </tr>\n",
       "    <tr>\n",
       "      <th>3</th>\n",
       "      <td>Upplands Väsby</td>\n",
       "      <td>all 20-64 years of age</td>\n",
       "      <td>2000</td>\n",
       "      <td>5.3</td>\n",
       "    </tr>\n",
       "    <tr>\n",
       "      <th>4</th>\n",
       "      <td>Upplands Väsby</td>\n",
       "      <td>all 20-64 years of age</td>\n",
       "      <td>2001</td>\n",
       "      <td>5.0</td>\n",
       "    </tr>\n",
       "  </tbody>\n",
       "</table>\n",
       "</div>"
      ],
      "text/plain": [
       "           Region             AgeVariable  Year  AvgDisposibleIncome\n",
       "0  Upplands Väsby  all 20-64 years of age  1997                  4.0\n",
       "1  Upplands Väsby  all 20-64 years of age  1998                  4.1\n",
       "2  Upplands Väsby  all 20-64 years of age  1999                  4.4\n",
       "3  Upplands Väsby  all 20-64 years of age  2000                  5.3\n",
       "4  Upplands Väsby  all 20-64 years of age  2001                  5.0"
      ]
     },
     "execution_count": 5,
     "metadata": {},
     "output_type": "execute_result"
    }
   ],
   "source": [
    "# preview dataset\n",
    "df.head()"
   ]
  },
  {
   "cell_type": "code",
   "execution_count": 6,
   "id": "114fee9f",
   "metadata": {},
   "outputs": [
    {
     "name": "stdout",
     "output_type": "stream",
     "text": [
      "<class 'pandas.core.frame.DataFrame'>\n",
      "RangeIndex: 46980 entries, 0 to 46979\n",
      "Data columns (total 4 columns):\n",
      " #   Column               Non-Null Count  Dtype  \n",
      "---  ------               --------------  -----  \n",
      " 0   Region               46980 non-null  object \n",
      " 1   AgeVariable          46980 non-null  object \n",
      " 2   Year                 46980 non-null  int64  \n",
      " 3   AvgDisposibleIncome  46944 non-null  float64\n",
      "dtypes: float64(1), int64(1), object(2)\n",
      "memory usage: 1.4+ MB\n"
     ]
    }
   ],
   "source": [
    "# summary of dataset\n",
    "df.info()"
   ]
  },
  {
   "cell_type": "code",
   "execution_count": 9,
   "id": "18d0d823",
   "metadata": {},
   "outputs": [
    {
     "data": {
      "text/plain": [
       "array(['all 20-64 years of age', '20-24 years', 'age 25-34 years',\n",
       "       'age 35-44 years', 'age 45-54 years', 'age 55-64 years'],\n",
       "      dtype=object)"
      ]
     },
     "execution_count": 9,
     "metadata": {},
     "output_type": "execute_result"
    }
   ],
   "source": [
    "df['AgeVariable'].unique()"
   ]
  },
  {
   "cell_type": "code",
   "execution_count": 10,
   "id": "e89da399",
   "metadata": {},
   "outputs": [
    {
     "data": {
      "text/plain": [
       "array(['Upplands Väsby', 'Vallentuna', 'Österåker', 'Värmdö', 'Järfälla',\n",
       "       'Ekerö', 'Huddinge', 'Botkyrka', 'Salem', 'Haninge', 'Tyresö',\n",
       "       'Upplands-Bro', 'Nykvarn', 'Täby', 'Danderyd', 'Sollentuna',\n",
       "       'Stockholm', 'Södertälje', 'Nacka', 'Sundbyberg', 'Solna',\n",
       "       'Lidingö', 'Vaxholm', 'Norrtälje', 'Sigtuna', 'Nynäshamn', 'Håbo',\n",
       "       'Älvkarleby', 'Knivsta', 'Heby', 'Tierp', 'Uppsala', 'Enköping',\n",
       "       'Östhammar', 'Vingåker', 'Gnesta', 'Nyköping', 'Oxelösund', 'Flen',\n",
       "       'Katrineholm', 'Eskilstuna', 'Strängnäs', 'Trosa', 'Ödeshög',\n",
       "       'Ydre', 'Kinda', 'Boxholm', 'Åtvidaberg', 'Finspång',\n",
       "       'Valdemarsvik', 'Linköping', 'Norrköping', 'Söderköping', 'Motala',\n",
       "       'Vadstena', 'Mjölby', 'Aneby', 'Gnosjö', 'Mullsjö', 'Habo',\n",
       "       'Gislaved', 'Vaggeryd', 'Jönköping', 'Nässjö', 'Värnamo', 'Sävsjö',\n",
       "       'Vetlanda', 'Eksjö', 'Tranås', 'Uppvidinge', 'Lessebo', 'Tingsryd',\n",
       "       'Alvesta', 'Älmhult', 'Markaryd', 'Växjö', 'Ljungby', 'Högsby',\n",
       "       'Torsås', 'Mörbylånga', 'Hultsfred', 'Mönsterås', 'Emmaboda',\n",
       "       'Kalmar', 'Nybro', 'Oskarshamn', 'Västervik', 'Vimmerby',\n",
       "       'Borgholm', 'Gotland', 'Olofström', 'Karlskrona', 'Ronneby',\n",
       "       'Karlshamn', 'Sölvesborg', 'Svalöv', 'Staffanstorp', 'Burlöv',\n",
       "       'Vellinge', 'Östra Göinge', 'Örkelljunga', 'Bjuv', 'Kävlinge',\n",
       "       'Lomma', 'Svedala', 'Skurup', 'Sjöbo', 'Hörby', 'Höör',\n",
       "       'Tomelilla', 'Bromölla', 'Osby', 'Perstorp', 'Klippan', 'Åstorp',\n",
       "       'Båstad', 'Malmö', 'Lund', 'Landskrona', 'Helsingborg', 'Höganäs',\n",
       "       'Eslöv', 'Ystad', 'Trelleborg', 'Kristianstad', 'Simrishamn',\n",
       "       'Ängelholm', 'Hässleholm', 'Hylte', 'Halmstad', 'Laholm',\n",
       "       'Falkenberg', 'Varberg', 'Kungsbacka', 'Härryda', 'Partille',\n",
       "       'Öckerö', 'Stenungsund', 'Tjörn', 'Orust', 'Sotenäs', 'Munkedal',\n",
       "       'Tanum', 'Dals-Ed', 'Färgelanda', 'Ale', 'Lerum', 'Vårgårda',\n",
       "       'Bollebygd', 'Grästorp', 'Essunga', 'Karlsborg', 'Gullspång',\n",
       "       'Tranemo', 'Bengtsfors', 'Mellerud', 'Lilla Edet', 'Mark',\n",
       "       'Svenljunga', 'Herrljunga', 'Vara', 'Götene', 'Tibro', 'Töreboda',\n",
       "       'Göteborg', 'Mölndal', 'Kungälv', 'Lysekil', 'Uddevalla',\n",
       "       'Strömstad', 'Vänersborg', 'Trollhättan', 'Alingsås', 'Borås',\n",
       "       'Ulricehamn', 'Åmål', 'Mariestad', 'Lidköping', 'Skara', 'Skövde',\n",
       "       'Hjo', 'Tidaholm', 'Falköping', 'Kil', 'Eda', 'Torsby', 'Storfors',\n",
       "       'Hammarö', 'Munkfors', 'Forshaga', 'Grums', 'Årjäng', 'Sunne',\n",
       "       'Karlstad', 'Kristinehamn', 'Filipstad', 'Hagfors', 'Arvika',\n",
       "       'Säffle', 'Lekeberg', 'Laxå', 'Hallsberg', 'Degerfors',\n",
       "       'Hällefors', 'Ljusnarsberg', 'Örebro', 'Kumla', 'Askersund',\n",
       "       'Karlskoga', 'Nora', 'Lindesberg', 'Skinnskatteberg', 'Surahammar',\n",
       "       'Kungsör', 'Hallstahammar', 'Norberg', 'Västerås', 'Sala',\n",
       "       'Fagersta', 'Köping', 'Arboga', 'Vansbro', 'Malung-Sälen',\n",
       "       'Gagnef', 'Leksand', 'Rättvik', 'Orsa', 'Älvdalen', 'Smedjebacken',\n",
       "       'Mora', 'Falun', 'Borlänge', 'Säter', 'Hedemora', 'Avesta',\n",
       "       'Ludvika', 'Ockelbo', 'Hofors', 'Ovanåker', 'Nordanstig',\n",
       "       'Ljusdal', 'Gävle', 'Sandviken', 'Söderhamn', 'Bollnäs',\n",
       "       'Hudiksvall', 'Ånge', 'Timrå', 'Härnösand', 'Sundsvall',\n",
       "       'Kramfors', 'Sollefteå', 'Örnsköldsvik', 'Ragunda', 'Bräcke',\n",
       "       'Krokom', 'Strömsund', 'Åre', 'Berg', 'Härjedalen', 'Östersund',\n",
       "       'Nordmaling', 'Bjurholm', 'Vindeln', 'Robertsfors', 'Norsjö',\n",
       "       'Malå', 'Storuman', 'Sorsele', 'Dorotea', 'Vännäs', 'Vilhelmina',\n",
       "       'Åsele', 'Umeå', 'Lycksele', 'Skellefteå', 'Arvidsjaur',\n",
       "       'Arjeplog', 'Jokkmokk', 'Överkalix', 'Kalix', 'Övertorneå',\n",
       "       'Pajala', 'Gällivare', 'Älvsbyn', 'Luleå', 'Piteå', 'Boden',\n",
       "       'Haparanda', 'Kiruna'], dtype=object)"
      ]
     },
     "execution_count": 10,
     "metadata": {},
     "output_type": "execute_result"
    }
   ],
   "source": [
    "df['Region'].unique()"
   ]
  },
  {
   "cell_type": "code",
   "execution_count": 18,
   "id": "0ebe5eb8",
   "metadata": {},
   "outputs": [],
   "source": [
    "df1 = df[(df['AgeVariable']=='all 20-64 years of age') & (df['Region'] =='Stockholm')]"
   ]
  },
  {
   "cell_type": "code",
   "execution_count": 19,
   "id": "e59bc112",
   "metadata": {},
   "outputs": [
    {
     "data": {
      "text/html": [
       "<div>\n",
       "<style scoped>\n",
       "    .dataframe tbody tr th:only-of-type {\n",
       "        vertical-align: middle;\n",
       "    }\n",
       "\n",
       "    .dataframe tbody tr th {\n",
       "        vertical-align: top;\n",
       "    }\n",
       "\n",
       "    .dataframe thead th {\n",
       "        text-align: right;\n",
       "    }\n",
       "</style>\n",
       "<table border=\"1\" class=\"dataframe\">\n",
       "  <thead>\n",
       "    <tr style=\"text-align: right;\">\n",
       "      <th></th>\n",
       "      <th>Region</th>\n",
       "      <th>AgeVariable</th>\n",
       "      <th>Year</th>\n",
       "      <th>AvgDisposibleIncome</th>\n",
       "    </tr>\n",
       "  </thead>\n",
       "  <tbody>\n",
       "    <tr>\n",
       "      <th>2592</th>\n",
       "      <td>Stockholm</td>\n",
       "      <td>all 20-64 years of age</td>\n",
       "      <td>1997</td>\n",
       "      <td>4.2</td>\n",
       "    </tr>\n",
       "    <tr>\n",
       "      <th>2593</th>\n",
       "      <td>Stockholm</td>\n",
       "      <td>all 20-64 years of age</td>\n",
       "      <td>1998</td>\n",
       "      <td>4.4</td>\n",
       "    </tr>\n",
       "    <tr>\n",
       "      <th>2594</th>\n",
       "      <td>Stockholm</td>\n",
       "      <td>all 20-64 years of age</td>\n",
       "      <td>1999</td>\n",
       "      <td>4.8</td>\n",
       "    </tr>\n",
       "    <tr>\n",
       "      <th>2595</th>\n",
       "      <td>Stockholm</td>\n",
       "      <td>all 20-64 years of age</td>\n",
       "      <td>2000</td>\n",
       "      <td>5.4</td>\n",
       "    </tr>\n",
       "    <tr>\n",
       "      <th>2596</th>\n",
       "      <td>Stockholm</td>\n",
       "      <td>all 20-64 years of age</td>\n",
       "      <td>2001</td>\n",
       "      <td>5.4</td>\n",
       "    </tr>\n",
       "  </tbody>\n",
       "</table>\n",
       "</div>"
      ],
      "text/plain": [
       "         Region             AgeVariable  Year  AvgDisposibleIncome\n",
       "2592  Stockholm  all 20-64 years of age  1997                  4.2\n",
       "2593  Stockholm  all 20-64 years of age  1998                  4.4\n",
       "2594  Stockholm  all 20-64 years of age  1999                  4.8\n",
       "2595  Stockholm  all 20-64 years of age  2000                  5.4\n",
       "2596  Stockholm  all 20-64 years of age  2001                  5.4"
      ]
     },
     "execution_count": 19,
     "metadata": {},
     "output_type": "execute_result"
    }
   ],
   "source": [
    "df1.head()"
   ]
  },
  {
   "cell_type": "code",
   "execution_count": 29,
   "id": "d6e4090a",
   "metadata": {},
   "outputs": [
    {
     "data": {
      "text/plain": [
       "Text(0.5, 1.0, 'Average Disposable Income Over the Years for Stockholm Region')"
      ]
     },
     "execution_count": 29,
     "metadata": {},
     "output_type": "execute_result"
    },
    {
     "data": {
      "image/png": "[encoded data removed]",
      "text/plain": [
       "<Figure size 1000x600 with 1 Axes>"
      ]
     },
     "metadata": {},
     "output_type": "display_data"
    }
   ],
   "source": [
    "fig, ax = plt.subplots(figsize=(10, 6))\n",
    "ax.plot(df1['Year'], df1['AvgDisposibleIncome'], linewidth=2.0)\n",
    "\n",
    "# Add labels and a title for clarity\n",
    "ax.set_xlabel('Year')\n",
    "ax.set_ylabel('Average Disposable Income')\n",
    "ax.set_title('Average Disposable Income Over the Years for Stockholm Region')"
   ]
  },
  {
   "cell_type": "code",
   "execution_count": null,
   "id": "9519fddc",
   "metadata": {},
   "outputs": [],
   "source": []
  }
 ],
 "metadata": {
  "kernelspec": {
   "display_name": "data_analysis_env",
   "language": "python",
   "name": "python3"
  },
  "language_info": {
   "codemirror_mode": {
    "name": "ipython",
    "version": 3
   },
   "file_extension": ".py",
   "mimetype": "text/x-python",
   "name": "python",
   "nbconvert_exporter": "python",
   "pygments_lexer": "ipython3",
   "version": "3.13.5"
  }
 },
 "nbformat": 4,
 "nbformat_minor": 5
}
