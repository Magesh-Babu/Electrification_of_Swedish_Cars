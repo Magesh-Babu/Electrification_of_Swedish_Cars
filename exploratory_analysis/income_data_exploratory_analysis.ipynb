{
 "cells": [
  {
   "cell_type": "markdown",
   "id": "133cc685",
   "metadata": {},
   "source": [
    "#### Setup & Imports"
   ]
  },
  {
   "cell_type": "code",
   "execution_count": 1,
   "id": "42f8efae",
   "metadata": {},
   "outputs": [],
   "source": [
    "import numpy as np\n",
    "import pandas as pd\n",
    "import matplotlib.pyplot as plt\n",
    "import seaborn as sns"
   ]
  },
  {
   "cell_type": "markdown",
   "id": "b67d2254",
   "metadata": {},
   "source": [
    "#### Load the Dataset"
   ]
  },
  {
   "cell_type": "code",
   "execution_count": 2,
   "id": "1abeb46f",
   "metadata": {},
   "outputs": [
    {
     "data": {
      "text/html": [
       "<div>\n",
       "<style scoped>\n",
       "    .dataframe tbody tr th:only-of-type {\n",
       "        vertical-align: middle;\n",
       "    }\n",
       "\n",
       "    .dataframe tbody tr th {\n",
       "        vertical-align: top;\n",
       "    }\n",
       "\n",
       "    .dataframe thead th {\n",
       "        text-align: right;\n",
       "    }\n",
       "</style>\n",
       "<table border=\"1\" class=\"dataframe\">\n",
       "  <thead>\n",
       "    <tr style=\"text-align: right;\">\n",
       "      <th></th>\n",
       "      <th>Region</th>\n",
       "      <th>AgeVariable</th>\n",
       "      <th>Year</th>\n",
       "      <th>AvgDisposibleIncome</th>\n",
       "    </tr>\n",
       "  </thead>\n",
       "  <tbody>\n",
       "    <tr>\n",
       "      <th>0</th>\n",
       "      <td>Upplands Väsby</td>\n",
       "      <td>all 20-64 years of age</td>\n",
       "      <td>1997</td>\n",
       "      <td>4.0</td>\n",
       "    </tr>\n",
       "    <tr>\n",
       "      <th>1</th>\n",
       "      <td>Upplands Väsby</td>\n",
       "      <td>all 20-64 years of age</td>\n",
       "      <td>1998</td>\n",
       "      <td>4.1</td>\n",
       "    </tr>\n",
       "    <tr>\n",
       "      <th>2</th>\n",
       "      <td>Upplands Väsby</td>\n",
       "      <td>all 20-64 years of age</td>\n",
       "      <td>1999</td>\n",
       "      <td>4.4</td>\n",
       "    </tr>\n",
       "    <tr>\n",
       "      <th>3</th>\n",
       "      <td>Upplands Väsby</td>\n",
       "      <td>all 20-64 years of age</td>\n",
       "      <td>2000</td>\n",
       "      <td>5.3</td>\n",
       "    </tr>\n",
       "    <tr>\n",
       "      <th>4</th>\n",
       "      <td>Upplands Väsby</td>\n",
       "      <td>all 20-64 years of age</td>\n",
       "      <td>2001</td>\n",
       "      <td>5.0</td>\n",
       "    </tr>\n",
       "  </tbody>\n",
       "</table>\n",
       "</div>"
      ],
      "text/plain": [
       "           Region             AgeVariable  Year  AvgDisposibleIncome\n",
       "0  Upplands Väsby  all 20-64 years of age  1997                  4.0\n",
       "1  Upplands Väsby  all 20-64 years of age  1998                  4.1\n",
       "2  Upplands Väsby  all 20-64 years of age  1999                  4.4\n",
       "3  Upplands Väsby  all 20-64 years of age  2000                  5.3\n",
       "4  Upplands Väsby  all 20-64 years of age  2001                  5.0"
      ]
     },
     "execution_count": 2,
     "metadata": {},
     "output_type": "execute_result"
    }
   ],
   "source": [
    "df = pd.read_csv('../data_extraction/csv_files/income_statistics.csv')\n",
    "\n",
    "# preview dataset\n",
    "df.head()"
   ]
  },
  {
   "cell_type": "markdown",
   "id": "1d2d8f40",
   "metadata": {},
   "source": [
    "#### Data Overview"
   ]
  },
  {
   "cell_type": "code",
   "execution_count": 3,
   "id": "3e80b2f1",
   "metadata": {},
   "outputs": [
    {
     "name": "stdout",
     "output_type": "stream",
     "text": [
      "The shape of the dataset :  (46980, 4)\n"
     ]
    }
   ],
   "source": [
    "print('The shape of the dataset : ', df.shape)"
   ]
  },
  {
   "cell_type": "code",
   "execution_count": 4,
   "id": "67571e6e",
   "metadata": {},
   "outputs": [
    {
     "name": "stdout",
     "output_type": "stream",
     "text": [
      "<class 'pandas.core.frame.DataFrame'>\n",
      "RangeIndex: 46980 entries, 0 to 46979\n",
      "Data columns (total 4 columns):\n",
      " #   Column               Non-Null Count  Dtype  \n",
      "---  ------               --------------  -----  \n",
      " 0   Region               46980 non-null  object \n",
      " 1   AgeVariable          46980 non-null  object \n",
      " 2   Year                 46980 non-null  int64  \n",
      " 3   AvgDisposibleIncome  46944 non-null  float64\n",
      "dtypes: float64(1), int64(1), object(2)\n",
      "memory usage: 1.4+ MB\n"
     ]
    }
   ],
   "source": [
    "df.info()"
   ]
  },
  {
   "cell_type": "code",
   "execution_count": 5,
   "id": "4c38e820",
   "metadata": {},
   "outputs": [
    {
     "data": {
      "text/html": [
       "<div>\n",
       "<style scoped>\n",
       "    .dataframe tbody tr th:only-of-type {\n",
       "        vertical-align: middle;\n",
       "    }\n",
       "\n",
       "    .dataframe tbody tr th {\n",
       "        vertical-align: top;\n",
       "    }\n",
       "\n",
       "    .dataframe thead th {\n",
       "        text-align: right;\n",
       "    }\n",
       "</style>\n",
       "<table border=\"1\" class=\"dataframe\">\n",
       "  <thead>\n",
       "    <tr style=\"text-align: right;\">\n",
       "      <th></th>\n",
       "      <th>Year</th>\n",
       "      <th>AvgDisposibleIncome</th>\n",
       "    </tr>\n",
       "  </thead>\n",
       "  <tbody>\n",
       "    <tr>\n",
       "      <th>count</th>\n",
       "      <td>46980.000000</td>\n",
       "      <td>46944.00000</td>\n",
       "    </tr>\n",
       "    <tr>\n",
       "      <th>mean</th>\n",
       "      <td>2010.000000</td>\n",
       "      <td>4.95196</td>\n",
       "    </tr>\n",
       "    <tr>\n",
       "      <th>std</th>\n",
       "      <td>7.788964</td>\n",
       "      <td>1.47798</td>\n",
       "    </tr>\n",
       "    <tr>\n",
       "      <th>min</th>\n",
       "      <td>1997.000000</td>\n",
       "      <td>1.90000</td>\n",
       "    </tr>\n",
       "    <tr>\n",
       "      <th>25%</th>\n",
       "      <td>2003.000000</td>\n",
       "      <td>4.00000</td>\n",
       "    </tr>\n",
       "    <tr>\n",
       "      <th>50%</th>\n",
       "      <td>2010.000000</td>\n",
       "      <td>4.90000</td>\n",
       "    </tr>\n",
       "    <tr>\n",
       "      <th>75%</th>\n",
       "      <td>2017.000000</td>\n",
       "      <td>5.80000</td>\n",
       "    </tr>\n",
       "    <tr>\n",
       "      <th>max</th>\n",
       "      <td>2023.000000</td>\n",
       "      <td>34.10000</td>\n",
       "    </tr>\n",
       "  </tbody>\n",
       "</table>\n",
       "</div>"
      ],
      "text/plain": [
       "               Year  AvgDisposibleIncome\n",
       "count  46980.000000          46944.00000\n",
       "mean    2010.000000              4.95196\n",
       "std        7.788964              1.47798\n",
       "min     1997.000000              1.90000\n",
       "25%     2003.000000              4.00000\n",
       "50%     2010.000000              4.90000\n",
       "75%     2017.000000              5.80000\n",
       "max     2023.000000             34.10000"
      ]
     },
     "execution_count": 5,
     "metadata": {},
     "output_type": "execute_result"
    }
   ],
   "source": [
    "df.describe()"
   ]
  },
  {
   "cell_type": "code",
   "execution_count": 6,
   "id": "7ba4d80f",
   "metadata": {},
   "outputs": [
    {
     "data": {
      "text/plain": [
       "Region                  0\n",
       "AgeVariable             0\n",
       "Year                    0\n",
       "AvgDisposibleIncome    36\n",
       "dtype: int64"
      ]
     },
     "execution_count": 6,
     "metadata": {},
     "output_type": "execute_result"
    }
   ],
   "source": [
    "df.isnull().sum()"
   ]
  },
  {
   "cell_type": "code",
   "execution_count": 7,
   "id": "9ee71541",
   "metadata": {},
   "outputs": [
    {
     "data": {
      "text/plain": [
       "Region                 290\n",
       "AgeVariable              6\n",
       "Year                    27\n",
       "AvgDisposibleIncome    172\n",
       "dtype: int64"
      ]
     },
     "execution_count": 7,
     "metadata": {},
     "output_type": "execute_result"
    }
   ],
   "source": [
    "df.nunique()"
   ]
  },
  {
   "cell_type": "markdown",
   "id": "999fca6f",
   "metadata": {},
   "source": [
    "### Data Cleaning"
   ]
  },
  {
   "cell_type": "code",
   "execution_count": 8,
   "id": "4b3cb32a",
   "metadata": {},
   "outputs": [
    {
     "data": {
      "text/html": [
       "<div>\n",
       "<style scoped>\n",
       "    .dataframe tbody tr th:only-of-type {\n",
       "        vertical-align: middle;\n",
       "    }\n",
       "\n",
       "    .dataframe tbody tr th {\n",
       "        vertical-align: top;\n",
       "    }\n",
       "\n",
       "    .dataframe thead th {\n",
       "        text-align: right;\n",
       "    }\n",
       "</style>\n",
       "<table border=\"1\" class=\"dataframe\">\n",
       "  <thead>\n",
       "    <tr style=\"text-align: right;\">\n",
       "      <th></th>\n",
       "      <th>Region</th>\n",
       "      <th>AgeVariable</th>\n",
       "      <th>Year</th>\n",
       "      <th>AvgDisposibleIncome</th>\n",
       "    </tr>\n",
       "  </thead>\n",
       "  <tbody>\n",
       "    <tr>\n",
       "      <th>1944</th>\n",
       "      <td>Nykvarn</td>\n",
       "      <td>all 20-64 years of age</td>\n",
       "      <td>1997</td>\n",
       "      <td>NaN</td>\n",
       "    </tr>\n",
       "    <tr>\n",
       "      <th>1971</th>\n",
       "      <td>Nykvarn</td>\n",
       "      <td>20-24 years</td>\n",
       "      <td>1997</td>\n",
       "      <td>NaN</td>\n",
       "    </tr>\n",
       "    <tr>\n",
       "      <th>1998</th>\n",
       "      <td>Nykvarn</td>\n",
       "      <td>age 25-34 years</td>\n",
       "      <td>1997</td>\n",
       "      <td>NaN</td>\n",
       "    </tr>\n",
       "    <tr>\n",
       "      <th>2025</th>\n",
       "      <td>Nykvarn</td>\n",
       "      <td>age 35-44 years</td>\n",
       "      <td>1997</td>\n",
       "      <td>NaN</td>\n",
       "    </tr>\n",
       "    <tr>\n",
       "      <th>2052</th>\n",
       "      <td>Nykvarn</td>\n",
       "      <td>age 45-54 years</td>\n",
       "      <td>1997</td>\n",
       "      <td>NaN</td>\n",
       "    </tr>\n",
       "    <tr>\n",
       "      <th>2079</th>\n",
       "      <td>Nykvarn</td>\n",
       "      <td>age 55-64 years</td>\n",
       "      <td>1997</td>\n",
       "      <td>NaN</td>\n",
       "    </tr>\n",
       "    <tr>\n",
       "      <th>4536</th>\n",
       "      <td>Knivsta</td>\n",
       "      <td>all 20-64 years of age</td>\n",
       "      <td>1997</td>\n",
       "      <td>NaN</td>\n",
       "    </tr>\n",
       "    <tr>\n",
       "      <th>4537</th>\n",
       "      <td>Knivsta</td>\n",
       "      <td>all 20-64 years of age</td>\n",
       "      <td>1998</td>\n",
       "      <td>NaN</td>\n",
       "    </tr>\n",
       "    <tr>\n",
       "      <th>4538</th>\n",
       "      <td>Knivsta</td>\n",
       "      <td>all 20-64 years of age</td>\n",
       "      <td>1999</td>\n",
       "      <td>NaN</td>\n",
       "    </tr>\n",
       "    <tr>\n",
       "      <th>4539</th>\n",
       "      <td>Knivsta</td>\n",
       "      <td>all 20-64 years of age</td>\n",
       "      <td>2000</td>\n",
       "      <td>NaN</td>\n",
       "    </tr>\n",
       "    <tr>\n",
       "      <th>4540</th>\n",
       "      <td>Knivsta</td>\n",
       "      <td>all 20-64 years of age</td>\n",
       "      <td>2001</td>\n",
       "      <td>NaN</td>\n",
       "    </tr>\n",
       "    <tr>\n",
       "      <th>4563</th>\n",
       "      <td>Knivsta</td>\n",
       "      <td>20-24 years</td>\n",
       "      <td>1997</td>\n",
       "      <td>NaN</td>\n",
       "    </tr>\n",
       "    <tr>\n",
       "      <th>4564</th>\n",
       "      <td>Knivsta</td>\n",
       "      <td>20-24 years</td>\n",
       "      <td>1998</td>\n",
       "      <td>NaN</td>\n",
       "    </tr>\n",
       "    <tr>\n",
       "      <th>4565</th>\n",
       "      <td>Knivsta</td>\n",
       "      <td>20-24 years</td>\n",
       "      <td>1999</td>\n",
       "      <td>NaN</td>\n",
       "    </tr>\n",
       "    <tr>\n",
       "      <th>4566</th>\n",
       "      <td>Knivsta</td>\n",
       "      <td>20-24 years</td>\n",
       "      <td>2000</td>\n",
       "      <td>NaN</td>\n",
       "    </tr>\n",
       "    <tr>\n",
       "      <th>4567</th>\n",
       "      <td>Knivsta</td>\n",
       "      <td>20-24 years</td>\n",
       "      <td>2001</td>\n",
       "      <td>NaN</td>\n",
       "    </tr>\n",
       "    <tr>\n",
       "      <th>4590</th>\n",
       "      <td>Knivsta</td>\n",
       "      <td>age 25-34 years</td>\n",
       "      <td>1997</td>\n",
       "      <td>NaN</td>\n",
       "    </tr>\n",
       "    <tr>\n",
       "      <th>4591</th>\n",
       "      <td>Knivsta</td>\n",
       "      <td>age 25-34 years</td>\n",
       "      <td>1998</td>\n",
       "      <td>NaN</td>\n",
       "    </tr>\n",
       "    <tr>\n",
       "      <th>4592</th>\n",
       "      <td>Knivsta</td>\n",
       "      <td>age 25-34 years</td>\n",
       "      <td>1999</td>\n",
       "      <td>NaN</td>\n",
       "    </tr>\n",
       "    <tr>\n",
       "      <th>4593</th>\n",
       "      <td>Knivsta</td>\n",
       "      <td>age 25-34 years</td>\n",
       "      <td>2000</td>\n",
       "      <td>NaN</td>\n",
       "    </tr>\n",
       "    <tr>\n",
       "      <th>4594</th>\n",
       "      <td>Knivsta</td>\n",
       "      <td>age 25-34 years</td>\n",
       "      <td>2001</td>\n",
       "      <td>NaN</td>\n",
       "    </tr>\n",
       "    <tr>\n",
       "      <th>4617</th>\n",
       "      <td>Knivsta</td>\n",
       "      <td>age 35-44 years</td>\n",
       "      <td>1997</td>\n",
       "      <td>NaN</td>\n",
       "    </tr>\n",
       "    <tr>\n",
       "      <th>4618</th>\n",
       "      <td>Knivsta</td>\n",
       "      <td>age 35-44 years</td>\n",
       "      <td>1998</td>\n",
       "      <td>NaN</td>\n",
       "    </tr>\n",
       "    <tr>\n",
       "      <th>4619</th>\n",
       "      <td>Knivsta</td>\n",
       "      <td>age 35-44 years</td>\n",
       "      <td>1999</td>\n",
       "      <td>NaN</td>\n",
       "    </tr>\n",
       "    <tr>\n",
       "      <th>4620</th>\n",
       "      <td>Knivsta</td>\n",
       "      <td>age 35-44 years</td>\n",
       "      <td>2000</td>\n",
       "      <td>NaN</td>\n",
       "    </tr>\n",
       "    <tr>\n",
       "      <th>4621</th>\n",
       "      <td>Knivsta</td>\n",
       "      <td>age 35-44 years</td>\n",
       "      <td>2001</td>\n",
       "      <td>NaN</td>\n",
       "    </tr>\n",
       "    <tr>\n",
       "      <th>4644</th>\n",
       "      <td>Knivsta</td>\n",
       "      <td>age 45-54 years</td>\n",
       "      <td>1997</td>\n",
       "      <td>NaN</td>\n",
       "    </tr>\n",
       "    <tr>\n",
       "      <th>4645</th>\n",
       "      <td>Knivsta</td>\n",
       "      <td>age 45-54 years</td>\n",
       "      <td>1998</td>\n",
       "      <td>NaN</td>\n",
       "    </tr>\n",
       "    <tr>\n",
       "      <th>4646</th>\n",
       "      <td>Knivsta</td>\n",
       "      <td>age 45-54 years</td>\n",
       "      <td>1999</td>\n",
       "      <td>NaN</td>\n",
       "    </tr>\n",
       "    <tr>\n",
       "      <th>4647</th>\n",
       "      <td>Knivsta</td>\n",
       "      <td>age 45-54 years</td>\n",
       "      <td>2000</td>\n",
       "      <td>NaN</td>\n",
       "    </tr>\n",
       "    <tr>\n",
       "      <th>4648</th>\n",
       "      <td>Knivsta</td>\n",
       "      <td>age 45-54 years</td>\n",
       "      <td>2001</td>\n",
       "      <td>NaN</td>\n",
       "    </tr>\n",
       "    <tr>\n",
       "      <th>4671</th>\n",
       "      <td>Knivsta</td>\n",
       "      <td>age 55-64 years</td>\n",
       "      <td>1997</td>\n",
       "      <td>NaN</td>\n",
       "    </tr>\n",
       "    <tr>\n",
       "      <th>4672</th>\n",
       "      <td>Knivsta</td>\n",
       "      <td>age 55-64 years</td>\n",
       "      <td>1998</td>\n",
       "      <td>NaN</td>\n",
       "    </tr>\n",
       "    <tr>\n",
       "      <th>4673</th>\n",
       "      <td>Knivsta</td>\n",
       "      <td>age 55-64 years</td>\n",
       "      <td>1999</td>\n",
       "      <td>NaN</td>\n",
       "    </tr>\n",
       "    <tr>\n",
       "      <th>4674</th>\n",
       "      <td>Knivsta</td>\n",
       "      <td>age 55-64 years</td>\n",
       "      <td>2000</td>\n",
       "      <td>NaN</td>\n",
       "    </tr>\n",
       "    <tr>\n",
       "      <th>4675</th>\n",
       "      <td>Knivsta</td>\n",
       "      <td>age 55-64 years</td>\n",
       "      <td>2001</td>\n",
       "      <td>NaN</td>\n",
       "    </tr>\n",
       "  </tbody>\n",
       "</table>\n",
       "</div>"
      ],
      "text/plain": [
       "       Region             AgeVariable  Year  AvgDisposibleIncome\n",
       "1944  Nykvarn  all 20-64 years of age  1997                  NaN\n",
       "1971  Nykvarn             20-24 years  1997                  NaN\n",
       "1998  Nykvarn         age 25-34 years  1997                  NaN\n",
       "2025  Nykvarn         age 35-44 years  1997                  NaN\n",
       "2052  Nykvarn         age 45-54 years  1997                  NaN\n",
       "2079  Nykvarn         age 55-64 years  1997                  NaN\n",
       "4536  Knivsta  all 20-64 years of age  1997                  NaN\n",
       "4537  Knivsta  all 20-64 years of age  1998                  NaN\n",
       "4538  Knivsta  all 20-64 years of age  1999                  NaN\n",
       "4539  Knivsta  all 20-64 years of age  2000                  NaN\n",
       "4540  Knivsta  all 20-64 years of age  2001                  NaN\n",
       "4563  Knivsta             20-24 years  1997                  NaN\n",
       "4564  Knivsta             20-24 years  1998                  NaN\n",
       "4565  Knivsta             20-24 years  1999                  NaN\n",
       "4566  Knivsta             20-24 years  2000                  NaN\n",
       "4567  Knivsta             20-24 years  2001                  NaN\n",
       "4590  Knivsta         age 25-34 years  1997                  NaN\n",
       "4591  Knivsta         age 25-34 years  1998                  NaN\n",
       "4592  Knivsta         age 25-34 years  1999                  NaN\n",
       "4593  Knivsta         age 25-34 years  2000                  NaN\n",
       "4594  Knivsta         age 25-34 years  2001                  NaN\n",
       "4617  Knivsta         age 35-44 years  1997                  NaN\n",
       "4618  Knivsta         age 35-44 years  1998                  NaN\n",
       "4619  Knivsta         age 35-44 years  1999                  NaN\n",
       "4620  Knivsta         age 35-44 years  2000                  NaN\n",
       "4621  Knivsta         age 35-44 years  2001                  NaN\n",
       "4644  Knivsta         age 45-54 years  1997                  NaN\n",
       "4645  Knivsta         age 45-54 years  1998                  NaN\n",
       "4646  Knivsta         age 45-54 years  1999                  NaN\n",
       "4647  Knivsta         age 45-54 years  2000                  NaN\n",
       "4648  Knivsta         age 45-54 years  2001                  NaN\n",
       "4671  Knivsta         age 55-64 years  1997                  NaN\n",
       "4672  Knivsta         age 55-64 years  1998                  NaN\n",
       "4673  Knivsta         age 55-64 years  1999                  NaN\n",
       "4674  Knivsta         age 55-64 years  2000                  NaN\n",
       "4675  Knivsta         age 55-64 years  2001                  NaN"
      ]
     },
     "execution_count": 8,
     "metadata": {},
     "output_type": "execute_result"
    }
   ],
   "source": [
    "# View rows where AvgDisposableIncome is null\n",
    "null_income_rows = df[df['AvgDisposibleIncome'].isnull()]\n",
    "\n",
    "# Display all\n",
    "null_income_rows"
   ]
  },
  {
   "cell_type": "code",
   "execution_count": 9,
   "id": "4469e53d",
   "metadata": {},
   "outputs": [],
   "source": [
    "df['Year'] = pd.to_datetime(df['Year'], format='%Y').dt.year"
   ]
  },
  {
   "cell_type": "code",
   "execution_count": 10,
   "id": "293d1304",
   "metadata": {},
   "outputs": [],
   "source": [
    "# Drop rows with null AvgDisposibleIncome\n",
    "df = df.dropna(subset=['AvgDisposibleIncome'])"
   ]
  },
  {
   "cell_type": "code",
   "execution_count": 11,
   "id": "a2d5ee81",
   "metadata": {},
   "outputs": [
    {
     "data": {
      "text/html": [
       "<div>\n",
       "<style scoped>\n",
       "    .dataframe tbody tr th:only-of-type {\n",
       "        vertical-align: middle;\n",
       "    }\n",
       "\n",
       "    .dataframe tbody tr th {\n",
       "        vertical-align: top;\n",
       "    }\n",
       "\n",
       "    .dataframe thead th {\n",
       "        text-align: right;\n",
       "    }\n",
       "</style>\n",
       "<table border=\"1\" class=\"dataframe\">\n",
       "  <thead>\n",
       "    <tr style=\"text-align: right;\">\n",
       "      <th></th>\n",
       "      <th>Region</th>\n",
       "      <th>AgeVariable</th>\n",
       "      <th>Year</th>\n",
       "      <th>AvgDisposibleIncome</th>\n",
       "    </tr>\n",
       "  </thead>\n",
       "  <tbody>\n",
       "    <tr>\n",
       "      <th>0</th>\n",
       "      <td>Upplands Väsby</td>\n",
       "      <td>all 20-64 years of age</td>\n",
       "      <td>1997</td>\n",
       "      <td>4.0</td>\n",
       "    </tr>\n",
       "    <tr>\n",
       "      <th>1</th>\n",
       "      <td>Upplands Väsby</td>\n",
       "      <td>all 20-64 years of age</td>\n",
       "      <td>1998</td>\n",
       "      <td>4.1</td>\n",
       "    </tr>\n",
       "    <tr>\n",
       "      <th>2</th>\n",
       "      <td>Upplands Väsby</td>\n",
       "      <td>all 20-64 years of age</td>\n",
       "      <td>1999</td>\n",
       "      <td>4.4</td>\n",
       "    </tr>\n",
       "    <tr>\n",
       "      <th>3</th>\n",
       "      <td>Upplands Väsby</td>\n",
       "      <td>all 20-64 years of age</td>\n",
       "      <td>2000</td>\n",
       "      <td>5.3</td>\n",
       "    </tr>\n",
       "    <tr>\n",
       "      <th>4</th>\n",
       "      <td>Upplands Väsby</td>\n",
       "      <td>all 20-64 years of age</td>\n",
       "      <td>2001</td>\n",
       "      <td>5.0</td>\n",
       "    </tr>\n",
       "    <tr>\n",
       "      <th>...</th>\n",
       "      <td>...</td>\n",
       "      <td>...</td>\n",
       "      <td>...</td>\n",
       "      <td>...</td>\n",
       "    </tr>\n",
       "    <tr>\n",
       "      <th>46939</th>\n",
       "      <td>Kiruna</td>\n",
       "      <td>age 55-64 years</td>\n",
       "      <td>2019</td>\n",
       "      <td>6.9</td>\n",
       "    </tr>\n",
       "    <tr>\n",
       "      <th>46940</th>\n",
       "      <td>Kiruna</td>\n",
       "      <td>age 55-64 years</td>\n",
       "      <td>2020</td>\n",
       "      <td>7.2</td>\n",
       "    </tr>\n",
       "    <tr>\n",
       "      <th>46941</th>\n",
       "      <td>Kiruna</td>\n",
       "      <td>age 55-64 years</td>\n",
       "      <td>2021</td>\n",
       "      <td>7.6</td>\n",
       "    </tr>\n",
       "    <tr>\n",
       "      <th>46942</th>\n",
       "      <td>Kiruna</td>\n",
       "      <td>age 55-64 years</td>\n",
       "      <td>2022</td>\n",
       "      <td>7.5</td>\n",
       "    </tr>\n",
       "    <tr>\n",
       "      <th>46943</th>\n",
       "      <td>Kiruna</td>\n",
       "      <td>age 55-64 years</td>\n",
       "      <td>2023</td>\n",
       "      <td>6.7</td>\n",
       "    </tr>\n",
       "  </tbody>\n",
       "</table>\n",
       "<p>46944 rows × 4 columns</p>\n",
       "</div>"
      ],
      "text/plain": [
       "               Region             AgeVariable  Year  AvgDisposibleIncome\n",
       "0      Upplands Väsby  all 20-64 years of age  1997                  4.0\n",
       "1      Upplands Väsby  all 20-64 years of age  1998                  4.1\n",
       "2      Upplands Väsby  all 20-64 years of age  1999                  4.4\n",
       "3      Upplands Väsby  all 20-64 years of age  2000                  5.3\n",
       "4      Upplands Väsby  all 20-64 years of age  2001                  5.0\n",
       "...               ...                     ...   ...                  ...\n",
       "46939          Kiruna         age 55-64 years  2019                  6.9\n",
       "46940          Kiruna         age 55-64 years  2020                  7.2\n",
       "46941          Kiruna         age 55-64 years  2021                  7.6\n",
       "46942          Kiruna         age 55-64 years  2022                  7.5\n",
       "46943          Kiruna         age 55-64 years  2023                  6.7\n",
       "\n",
       "[46944 rows x 4 columns]"
      ]
     },
     "execution_count": 11,
     "metadata": {},
     "output_type": "execute_result"
    }
   ],
   "source": [
    "df.reset_index(drop=True)\n"
   ]
  },
  {
   "cell_type": "code",
   "execution_count": 12,
   "id": "12e71ca8",
   "metadata": {},
   "outputs": [],
   "source": [
    "# Rename columns for consistency\n",
    "df.columns = ['region', 'age_breakdown', 'year', 'avg_disposable_income']\n"
   ]
  },
  {
   "cell_type": "markdown",
   "id": "714edcd3",
   "metadata": {},
   "source": [
    "#### Descriptive Analysis"
   ]
  },
  {
   "cell_type": "code",
   "execution_count": 13,
   "id": "0ebe5eb8",
   "metadata": {},
   "outputs": [],
   "source": [
    "df1 = df[(df['age_breakdown']=='all 20-64 years of age') & (df['region'] =='Stockholm')]\n",
    "df2 = df[(df['age_breakdown']=='all 20-64 years of age') & (df['region'] =='Malmö')]\n",
    "df3 = df[(df['age_breakdown']=='all 20-64 years of age') & (df['region'] =='Göteborg')]"
   ]
  },
  {
   "cell_type": "code",
   "execution_count": 14,
   "id": "d6e4090a",
   "metadata": {},
   "outputs": [
    {
     "data": {
      "text/plain": [
       "<matplotlib.legend.Legend at 0x114710ec0>"
      ]
     },
     "execution_count": 14,
     "metadata": {},
     "output_type": "execute_result"
    },
    {
     "data": {
      "image/png": "[encoded data removed]",
      "text/plain": [
       "<Figure size 1000x600 with 1 Axes>"
      ]
     },
     "metadata": {},
     "output_type": "display_data"
    }
   ],
   "source": [
    "fig, ax = plt.subplots(figsize=(10, 6))\n",
    "ax.plot(df1['year'], df1['avg_disposable_income'], linewidth=2.0, label='Stockholm')\n",
    "ax.plot(df2['year'], df2['avg_disposable_income'], linewidth=2.0, label='Malmö')\n",
    "ax.plot(df3['year'], df3['avg_disposable_income'], linewidth=2.0, label='Göteborg')\n",
    "\n",
    "# Add labels and a title for clarity\n",
    "ax.set_xlabel('Year')\n",
    "ax.set_ylabel('Average Disposable Income in PBB (All 20-64 years of age)')\n",
    "ax.set_title('Average Disposable Income Over the Years for top 3 Regions')\n",
    "\n",
    "# Add a legend with a specific location\n",
    "ax.legend(loc='upper left')\n"
   ]
  },
  {
   "cell_type": "code",
   "execution_count": 15,
   "id": "9519fddc",
   "metadata": {},
   "outputs": [],
   "source": [
    "latest_year = df['year'].max()\n",
    "top_regions = df[df['year'] == latest_year] \\\n",
    "                .groupby('region')['avg_disposable_income'] \\\n",
    "                .mean().sort_values(ascending=False).head(10)\n"
   ]
  },
  {
   "cell_type": "code",
   "execution_count": 16,
   "id": "4cb29d98",
   "metadata": {},
   "outputs": [
    {
     "data": {
      "text/plain": [
       "region\n",
       "Danderyd      14.300000\n",
       "Lidingö        9.866667\n",
       "Täby           8.183333\n",
       "Nacka          8.100000\n",
       "Vellinge       8.050000\n",
       "Lomma          7.966667\n",
       "Vaxholm        7.616667\n",
       "Ekerö          7.450000\n",
       "Stockholm      7.150000\n",
       "Sollentuna     7.100000\n",
       "Name: avg_disposable_income, dtype: float64"
      ]
     },
     "execution_count": 16,
     "metadata": {},
     "output_type": "execute_result"
    }
   ],
   "source": [
    "top_regions"
   ]
  },
  {
   "cell_type": "code",
   "execution_count": 17,
   "id": "cf19c65f",
   "metadata": {},
   "outputs": [
    {
     "data": {
      "image/png": "[encoded data removed]",
      "text/plain": [
       "<Figure size 1000x500 with 1 Axes>"
      ]
     },
     "metadata": {},
     "output_type": "display_data"
    }
   ],
   "source": [
    "plt.figure(figsize=(10,5))\n",
    "plt.barh(top_regions.index, top_regions.values, color='skyblue')\n",
    "plt.xlabel('Avg Disposable Income (PBB)')\n",
    "plt.ylabel('Region')\n",
    "plt.title(f'Top 10 Regions by Avg Disposable Income ({latest_year})')\n",
    "plt.gca().invert_yaxis()  # so highest is at the top\n",
    "plt.show()"
   ]
  },
  {
   "cell_type": "code",
   "execution_count": 18,
   "id": "6c88b8c8",
   "metadata": {},
   "outputs": [
    {
     "name": "stderr",
     "output_type": "stream",
     "text": [
      "/var/folders/tg/1ywxq6y562945l7bh_1btpmw0000gn/T/ipykernel_20896/3125722190.py:2: FutureWarning: \n",
      "\n",
      "Passing `palette` without assigning `hue` is deprecated and will be removed in v0.14.0. Assign the `x` variable to `hue` and set `legend=False` for the same effect.\n",
      "\n",
      "  sns.barplot(data=df, x=\"age_breakdown\", y=\"avg_disposable_income\", estimator=\"mean\", palette=\"viridis\")\n"
     ]
    },
    {
     "data": {
      "image/png": "[encoded data removed]",
      "text/plain": [
       "<Figure size 1000x600 with 1 Axes>"
      ]
     },
     "metadata": {},
     "output_type": "display_data"
    }
   ],
   "source": [
    "plt.figure(figsize=(10,6))\n",
    "sns.barplot(data=df, x=\"age_breakdown\", y=\"avg_disposable_income\", estimator=\"mean\", palette=\"viridis\")\n",
    "plt.xticks(rotation=30)\n",
    "plt.xlabel(\"Age Group\")\n",
    "plt.ylabel(\"Avg Disposable Income (PBB)\")\n",
    "plt.title(\"Average Disposable Income by Age Group\")\n",
    "plt.show()"
   ]
  },
  {
   "cell_type": "markdown",
   "id": "88cec799",
   "metadata": {},
   "source": [
    "#### Save Dataframe"
   ]
  },
  {
   "cell_type": "code",
   "execution_count": 20,
   "id": "ae8e05d9",
   "metadata": {},
   "outputs": [],
   "source": [
    "# Save the cleaned DataFrame to a new CSV file\n",
    "df.to_csv('csv_files/clean_income_statistics.csv', index=False)"
   ]
  }
 ],
 "metadata": {
  "kernelspec": {
   "display_name": "data_analysis_env",
   "language": "python",
   "name": "python3"
  },
  "language_info": {
   "codemirror_mode": {
    "name": "ipython",
    "version": 3
   },
   "file_extension": ".py",
   "mimetype": "text/x-python",
   "name": "python",
   "nbconvert_exporter": "python",
   "pygments_lexer": "ipython3",
   "version": "3.13.5"
  }
 },
 "nbformat": 4,
 "nbformat_minor": 5
}
