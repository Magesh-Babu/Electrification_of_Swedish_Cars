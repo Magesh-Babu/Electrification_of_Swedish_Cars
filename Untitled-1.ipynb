{
 "cells": [
  {
   "cell_type": "code",
   "execution_count": 1,
   "id": "c2a6db17",
   "metadata": {},
   "outputs": [],
   "source": [
    "# ingestion/fetch_queue_events.py\n",
    "\n",
    "import requests\n",
    "import json\n",
    "import os\n",
    "from dotenv import load_dotenv\n",
    "import pandas as pd"
   ]
  },
  {
   "cell_type": "code",
   "execution_count": 2,
   "id": "75feda03",
   "metadata": {},
   "outputs": [],
   "source": [
    "load_dotenv()\n",
    "API_KEY = os.getenv(\"TRAFIKVERKET_API_KEY\")"
   ]
  },
  {
   "cell_type": "code",
   "execution_count": 3,
   "id": "86a28223",
   "metadata": {},
   "outputs": [],
   "source": [
    "def fetch_queue_events():\n",
    "    url = \"https://api.trafikinfo.trafikverket.se/v2/data.json\"\n",
    "    \n",
    "    xml_query = f\"\"\"\n",
    "    <REQUEST>\n",
    "      <LOGIN authenticationkey=\"{API_KEY}\"/>\n",
    "      <QUERY objecttype=\"TrafficFlow\" namespace=\"Road.TrafficInfo\" schemaversion=\"1.5\">\n",
    "        <INCLUDE>AverageVehicleSpeed</INCLUDE>\n",
    "        <INCLUDE>VehicleFlowRate</INCLUDE>\n",
    "        <INCLUDE>MeasurementTime</INCLUDE>\n",
    "        <INCLUDE>Geometry</INCLUDE>\n",
    "        <INCLUDE>VehicleType</INCLUDE>\n",
    "        <INCLUDE>CountyNo</INCLUDE>\n",
    "        <INCLUDE>RegionId</INCLUDE>\n",
    "      </QUERY>\n",
    "    </REQUEST>\n",
    "    \"\"\"\n",
    "\n",
    "    response = requests.post(url, data=xml_query.encode('utf-8'), headers={\"Content-Type\": \"text/xml\"})\n",
    "    \n",
    "    if response.status_code == 200:\n",
    "        data = response.json()\n",
    "        return data['RESPONSE']['RESULT'][0]['TrafficFlow']\n",
    "    else:\n",
    "        print(\"Error:\", response.status_code)\n",
    "        return []"
   ]
  },
  {
   "cell_type": "code",
   "execution_count": 4,
   "id": "3765e284",
   "metadata": {},
   "outputs": [],
   "source": [
    "if __name__ == \"__main__\":\n",
    "    data = fetch_queue_events()\n",
    "    #print(data)  # Preview first two entries"
   ]
  },
  {
   "cell_type": "code",
   "execution_count": 5,
   "id": "9f27dcb2",
   "metadata": {},
   "outputs": [],
   "source": [
    "df = pd.DataFrame(data)\n"
   ]
  },
  {
   "cell_type": "code",
   "execution_count": 6,
   "id": "64e62e9f",
   "metadata": {},
   "outputs": [
    {
     "data": {
      "text/html": [
       "<div>\n",
       "<style scoped>\n",
       "    .dataframe tbody tr th:only-of-type {\n",
       "        vertical-align: middle;\n",
       "    }\n",
       "\n",
       "    .dataframe tbody tr th {\n",
       "        vertical-align: top;\n",
       "    }\n",
       "\n",
       "    .dataframe thead th {\n",
       "        text-align: right;\n",
       "    }\n",
       "</style>\n",
       "<table border=\"1\" class=\"dataframe\">\n",
       "  <thead>\n",
       "    <tr style=\"text-align: right;\">\n",
       "      <th></th>\n",
       "      <th>MeasurementTime</th>\n",
       "      <th>VehicleType</th>\n",
       "      <th>VehicleFlowRate</th>\n",
       "      <th>AverageVehicleSpeed</th>\n",
       "      <th>CountyNo</th>\n",
       "      <th>Geometry</th>\n",
       "      <th>RegionId</th>\n",
       "    </tr>\n",
       "  </thead>\n",
       "  <tbody>\n",
       "    <tr>\n",
       "      <th>0</th>\n",
       "      <td>2025-07-29T11:10:00.000+02:00</td>\n",
       "      <td>anyVehicle</td>\n",
       "      <td>720</td>\n",
       "      <td>72.25</td>\n",
       "      <td>1</td>\n",
       "      <td>{'SWEREF99TM': 'POINT (677754.96 6578623.19)',...</td>\n",
       "      <td>4</td>\n",
       "    </tr>\n",
       "    <tr>\n",
       "      <th>1</th>\n",
       "      <td>2025-07-29T11:10:00.000+02:00</td>\n",
       "      <td>anyVehicle</td>\n",
       "      <td>900</td>\n",
       "      <td>64.25</td>\n",
       "      <td>1</td>\n",
       "      <td>{'SWEREF99TM': 'POINT (674788.02 6583302.84)',...</td>\n",
       "      <td>4</td>\n",
       "    </tr>\n",
       "    <tr>\n",
       "      <th>2</th>\n",
       "      <td>2025-07-29T11:10:00.000+02:00</td>\n",
       "      <td>anyVehicle</td>\n",
       "      <td>1620</td>\n",
       "      <td>52.80</td>\n",
       "      <td>1</td>\n",
       "      <td>{'SWEREF99TM': 'POINT (651018.96 6563771.14)',...</td>\n",
       "      <td>4</td>\n",
       "    </tr>\n",
       "    <tr>\n",
       "      <th>3</th>\n",
       "      <td>2025-07-28T06:37:00.000+02:00</td>\n",
       "      <td>anyVehicle</td>\n",
       "      <td>660</td>\n",
       "      <td>83.72</td>\n",
       "      <td>1</td>\n",
       "      <td>{'SWEREF99TM': 'POINT (652805.94 6565755.17)',...</td>\n",
       "      <td>4</td>\n",
       "    </tr>\n",
       "    <tr>\n",
       "      <th>4</th>\n",
       "      <td>2025-07-29T11:10:00.000+02:00</td>\n",
       "      <td>anyVehicle</td>\n",
       "      <td>780</td>\n",
       "      <td>88.50</td>\n",
       "      <td>1</td>\n",
       "      <td>{'SWEREF99TM': 'POINT (656154.96 6566753.11)',...</td>\n",
       "      <td>4</td>\n",
       "    </tr>\n",
       "  </tbody>\n",
       "</table>\n",
       "</div>"
      ],
      "text/plain": [
       "                 MeasurementTime VehicleType  VehicleFlowRate  \\\n",
       "0  2025-07-29T11:10:00.000+02:00  anyVehicle              720   \n",
       "1  2025-07-29T11:10:00.000+02:00  anyVehicle              900   \n",
       "2  2025-07-29T11:10:00.000+02:00  anyVehicle             1620   \n",
       "3  2025-07-28T06:37:00.000+02:00  anyVehicle              660   \n",
       "4  2025-07-29T11:10:00.000+02:00  anyVehicle              780   \n",
       "\n",
       "   AverageVehicleSpeed  CountyNo  \\\n",
       "0                72.25         1   \n",
       "1                64.25         1   \n",
       "2                52.80         1   \n",
       "3                83.72         1   \n",
       "4                88.50         1   \n",
       "\n",
       "                                            Geometry  RegionId  \n",
       "0  {'SWEREF99TM': 'POINT (677754.96 6578623.19)',...         4  \n",
       "1  {'SWEREF99TM': 'POINT (674788.02 6583302.84)',...         4  \n",
       "2  {'SWEREF99TM': 'POINT (651018.96 6563771.14)',...         4  \n",
       "3  {'SWEREF99TM': 'POINT (652805.94 6565755.17)',...         4  \n",
       "4  {'SWEREF99TM': 'POINT (656154.96 6566753.11)',...         4  "
      ]
     },
     "execution_count": 6,
     "metadata": {},
     "output_type": "execute_result"
    }
   ],
   "source": [
    "df.head(5) # Preview first two entries"
   ]
  },
  {
   "cell_type": "code",
   "execution_count": null,
   "id": "0bd791eb",
   "metadata": {},
   "outputs": [],
   "source": []
  },
  {
   "cell_type": "code",
   "execution_count": 9,
   "id": "7c023bce",
   "metadata": {},
   "outputs": [
    {
     "data": {
      "text/plain": [
       "Geometry\n",
       "{'SWEREF99TM': 'POINT (382476.02 6173595.84)', 'WGS84': 'POINT (13.13026 55.693893)'}     14\n",
       "{'SWEREF99TM': 'POINT (380424 6170153.19)', 'WGS84': 'POINT (13.099134 55.662476)'}       14\n",
       "{'SWEREF99TM': 'POINT (380458.01 6167553.91)', 'WGS84': 'POINT (13.100805 55.63914)'}     14\n",
       "{'SWEREF99TM': 'POINT (380394.99 6167516.14)', 'WGS84': 'POINT (13.099821 55.638786)'}    14\n",
       "{'SWEREF99TM': 'POINT (382872 6173647.2)', 'WGS84': 'POINT (13.136535 55.69445)'}         14\n",
       "                                                                                          ..\n",
       "{'SWEREF99TM': 'POINT (653491.99 6566150.19)', 'WGS84': 'POINT (17.688229 59.20659)'}      1\n",
       "{'SWEREF99TM': 'POINT (668797.04 6588574.13)', 'WGS84': 'POINT (17.973394 59.40188)'}      1\n",
       "{'SWEREF99TM': 'POINT (663589 6571926.87)', 'WGS84': 'POINT (17.869167 59.254627)'}        1\n",
       "{'SWEREF99TM': 'POINT (671458.99 6585555.17)', 'WGS84': 'POINT (18.017801 59.37373)'}      1\n",
       "{'SWEREF99TM': 'POINT (682763.02 6579526.02)', 'WGS84': 'POINT (18.211296 59.314922)'}     1\n",
       "Name: count, Length: 3093, dtype: int64"
      ]
     },
     "execution_count": 9,
     "metadata": {},
     "output_type": "execute_result"
    }
   ],
   "source": [
    "df.Geometry.value_counts()"
   ]
  },
  {
   "cell_type": "code",
   "execution_count": 11,
   "id": "ce34673e",
   "metadata": {},
   "outputs": [
    {
     "data": {
      "text/plain": [
       "(3533, 7)"
      ]
     },
     "execution_count": 11,
     "metadata": {},
     "output_type": "execute_result"
    }
   ],
   "source": [
    "df.shape"
   ]
  },
  {
   "cell_type": "code",
   "execution_count": 12,
   "id": "0205fd99",
   "metadata": {},
   "outputs": [],
   "source": [
    "# Extract WGS84 string directly from the dictionary\n",
    "df['wgs84'] = df['Geometry'].apply(lambda x: x['WGS84'])"
   ]
  },
  {
   "cell_type": "code",
   "execution_count": 13,
   "id": "77ce2659",
   "metadata": {},
   "outputs": [],
   "source": [
    "# Use regex to extract longitude and latitude from \"POINT (lon lat)\"\n",
    "df[['longitude', 'latitude']] = df['wgs84'].str.extract(r'POINT \\(([-\\d.]+) ([-\\d.]+)\\)')"
   ]
  },
  {
   "cell_type": "code",
   "execution_count": 14,
   "id": "2605776c",
   "metadata": {},
   "outputs": [],
   "source": [
    "# Convert to float\n",
    "df['longitude'] = df['longitude'].astype(float)\n",
    "df['latitude'] = df['latitude'].astype(float)"
   ]
  },
  {
   "cell_type": "code",
   "execution_count": 15,
   "id": "f0cda5f8",
   "metadata": {},
   "outputs": [
    {
     "data": {
      "text/html": [
       "<div>\n",
       "<style scoped>\n",
       "    .dataframe tbody tr th:only-of-type {\n",
       "        vertical-align: middle;\n",
       "    }\n",
       "\n",
       "    .dataframe tbody tr th {\n",
       "        vertical-align: top;\n",
       "    }\n",
       "\n",
       "    .dataframe thead th {\n",
       "        text-align: right;\n",
       "    }\n",
       "</style>\n",
       "<table border=\"1\" class=\"dataframe\">\n",
       "  <thead>\n",
       "    <tr style=\"text-align: right;\">\n",
       "      <th></th>\n",
       "      <th>MeasurementTime</th>\n",
       "      <th>VehicleType</th>\n",
       "      <th>VehicleFlowRate</th>\n",
       "      <th>AverageVehicleSpeed</th>\n",
       "      <th>CountyNo</th>\n",
       "      <th>Geometry</th>\n",
       "      <th>RegionId</th>\n",
       "      <th>wgs84</th>\n",
       "      <th>longitude</th>\n",
       "      <th>latitude</th>\n",
       "    </tr>\n",
       "  </thead>\n",
       "  <tbody>\n",
       "    <tr>\n",
       "      <th>0</th>\n",
       "      <td>2025-07-29T11:10:00.000+02:00</td>\n",
       "      <td>anyVehicle</td>\n",
       "      <td>720</td>\n",
       "      <td>72.25</td>\n",
       "      <td>1</td>\n",
       "      <td>{'SWEREF99TM': 'POINT (677754.96 6578623.19)',...</td>\n",
       "      <td>4</td>\n",
       "      <td>POINT (18.122711 59.308964)</td>\n",
       "      <td>18.122711</td>\n",
       "      <td>59.308964</td>\n",
       "    </tr>\n",
       "    <tr>\n",
       "      <th>1</th>\n",
       "      <td>2025-07-29T11:10:00.000+02:00</td>\n",
       "      <td>anyVehicle</td>\n",
       "      <td>900</td>\n",
       "      <td>64.25</td>\n",
       "      <td>1</td>\n",
       "      <td>{'SWEREF99TM': 'POINT (674788.02 6583302.84)',...</td>\n",
       "      <td>4</td>\n",
       "      <td>POINT (18.074469 59.352165)</td>\n",
       "      <td>18.074469</td>\n",
       "      <td>59.352165</td>\n",
       "    </tr>\n",
       "    <tr>\n",
       "      <th>2</th>\n",
       "      <td>2025-07-29T11:10:00.000+02:00</td>\n",
       "      <td>anyVehicle</td>\n",
       "      <td>1620</td>\n",
       "      <td>52.80</td>\n",
       "      <td>1</td>\n",
       "      <td>{'SWEREF99TM': 'POINT (651018.96 6563771.14)',...</td>\n",
       "      <td>4</td>\n",
       "      <td>POINT (17.64332 59.186134)</td>\n",
       "      <td>17.643320</td>\n",
       "      <td>59.186134</td>\n",
       "    </tr>\n",
       "    <tr>\n",
       "      <th>3</th>\n",
       "      <td>2025-07-28T06:37:00.000+02:00</td>\n",
       "      <td>anyVehicle</td>\n",
       "      <td>660</td>\n",
       "      <td>83.72</td>\n",
       "      <td>1</td>\n",
       "      <td>{'SWEREF99TM': 'POINT (652805.94 6565755.17)',...</td>\n",
       "      <td>4</td>\n",
       "      <td>POINT (17.675951 59.203293)</td>\n",
       "      <td>17.675951</td>\n",
       "      <td>59.203293</td>\n",
       "    </tr>\n",
       "    <tr>\n",
       "      <th>4</th>\n",
       "      <td>2025-07-29T11:10:00.000+02:00</td>\n",
       "      <td>anyVehicle</td>\n",
       "      <td>780</td>\n",
       "      <td>88.50</td>\n",
       "      <td>1</td>\n",
       "      <td>{'SWEREF99TM': 'POINT (656154.96 6566753.11)',...</td>\n",
       "      <td>4</td>\n",
       "      <td>POINT (17.735239 59.211025)</td>\n",
       "      <td>17.735239</td>\n",
       "      <td>59.211025</td>\n",
       "    </tr>\n",
       "  </tbody>\n",
       "</table>\n",
       "</div>"
      ],
      "text/plain": [
       "                 MeasurementTime VehicleType  VehicleFlowRate  \\\n",
       "0  2025-07-29T11:10:00.000+02:00  anyVehicle              720   \n",
       "1  2025-07-29T11:10:00.000+02:00  anyVehicle              900   \n",
       "2  2025-07-29T11:10:00.000+02:00  anyVehicle             1620   \n",
       "3  2025-07-28T06:37:00.000+02:00  anyVehicle              660   \n",
       "4  2025-07-29T11:10:00.000+02:00  anyVehicle              780   \n",
       "\n",
       "   AverageVehicleSpeed  CountyNo  \\\n",
       "0                72.25         1   \n",
       "1                64.25         1   \n",
       "2                52.80         1   \n",
       "3                83.72         1   \n",
       "4                88.50         1   \n",
       "\n",
       "                                            Geometry  RegionId  \\\n",
       "0  {'SWEREF99TM': 'POINT (677754.96 6578623.19)',...         4   \n",
       "1  {'SWEREF99TM': 'POINT (674788.02 6583302.84)',...         4   \n",
       "2  {'SWEREF99TM': 'POINT (651018.96 6563771.14)',...         4   \n",
       "3  {'SWEREF99TM': 'POINT (652805.94 6565755.17)',...         4   \n",
       "4  {'SWEREF99TM': 'POINT (656154.96 6566753.11)',...         4   \n",
       "\n",
       "                         wgs84  longitude   latitude  \n",
       "0  POINT (18.122711 59.308964)  18.122711  59.308964  \n",
       "1  POINT (18.074469 59.352165)  18.074469  59.352165  \n",
       "2   POINT (17.64332 59.186134)  17.643320  59.186134  \n",
       "3  POINT (17.675951 59.203293)  17.675951  59.203293  \n",
       "4  POINT (17.735239 59.211025)  17.735239  59.211025  "
      ]
     },
     "execution_count": 15,
     "metadata": {},
     "output_type": "execute_result"
    }
   ],
   "source": [
    "df.head(5)  # Preview first five entries"
   ]
  },
  {
   "cell_type": "code",
   "execution_count": 16,
   "id": "6e5d5ef3",
   "metadata": {},
   "outputs": [
    {
     "data": {
      "text/plain": [
       "3048"
      ]
     },
     "execution_count": 16,
     "metadata": {},
     "output_type": "execute_result"
    }
   ],
   "source": [
    "df.longitude.nunique()"
   ]
  },
  {
   "cell_type": "code",
   "execution_count": 17,
   "id": "dbb79dc2",
   "metadata": {},
   "outputs": [
    {
     "data": {
      "text/plain": [
       "2848"
      ]
     },
     "execution_count": 17,
     "metadata": {},
     "output_type": "execute_result"
    }
   ],
   "source": [
    "df.latitude.nunique()"
   ]
  },
  {
   "cell_type": "code",
   "execution_count": 18,
   "id": "7155ec03",
   "metadata": {},
   "outputs": [
    {
     "data": {
      "text/plain": [
       "latitude\n",
       "55.693893    14\n",
       "55.694450    14\n",
       "55.662476    14\n",
       "57.564926    14\n",
       "55.639140    14\n",
       "             ..\n",
       "59.366386     1\n",
       "59.373688     1\n",
       "59.221867     1\n",
       "59.423447     1\n",
       "59.301210     1\n",
       "Name: count, Length: 2848, dtype: int64"
      ]
     },
     "execution_count": 18,
     "metadata": {},
     "output_type": "execute_result"
    }
   ],
   "source": [
    "df.latitude.value_counts()"
   ]
  },
  {
   "cell_type": "code",
   "execution_count": 19,
   "id": "60c99ec3",
   "metadata": {},
   "outputs": [
    {
     "data": {
      "text/plain": [
       "longitude\n",
       "13.099821    14\n",
       "13.136535    14\n",
       "13.099134    14\n",
       "13.100805    14\n",
       "13.130260    14\n",
       "             ..\n",
       "18.017801     1\n",
       "18.014965     1\n",
       "18.047836     1\n",
       "17.925161     1\n",
       "18.047848     1\n",
       "Name: count, Length: 3048, dtype: int64"
      ]
     },
     "execution_count": 19,
     "metadata": {},
     "output_type": "execute_result"
    }
   ],
   "source": [
    "df.longitude.value_counts()"
   ]
  },
  {
   "cell_type": "code",
   "execution_count": 20,
   "id": "1ef073a4",
   "metadata": {},
   "outputs": [
    {
     "name": "stdout",
     "output_type": "stream",
     "text": [
      "                 MeasurementTime VehicleType  VehicleFlowRate  \\\n",
      "0  2025-07-29T11:10:00.000+02:00  anyVehicle              720   \n",
      "1  2025-07-29T11:10:00.000+02:00  anyVehicle              900   \n",
      "\n",
      "   AverageVehicleSpeed  CountyNo  \\\n",
      "0                72.25         1   \n",
      "1                64.25         1   \n",
      "\n",
      "                                            Geometry  RegionId  \\\n",
      "0  {'SWEREF99TM': 'POINT (677754.96 6578623.19)',...         4   \n",
      "1  {'SWEREF99TM': 'POINT (674788.02 6583302.84)',...         4   \n",
      "\n",
      "                         wgs84  longitude   latitude  \n",
      "0  POINT (18.122711 59.308964)  18.122711  59.308964  \n",
      "1  POINT (18.074469 59.352165)  18.074469  59.352165  \n"
     ]
    }
   ],
   "source": [
    "print(df.head(2))  # Preview first two entries\n"
   ]
  },
  {
   "cell_type": "code",
   "execution_count": null,
   "id": "d9b773d2",
   "metadata": {},
   "outputs": [],
   "source": []
  }
 ],
 "metadata": {
  "kernelspec": {
   "display_name": "data_analysis_env",
   "language": "python",
   "name": "python3"
  },
  "language_info": {
   "codemirror_mode": {
    "name": "ipython",
    "version": 3
   },
   "file_extension": ".py",
   "mimetype": "text/x-python",
   "name": "python",
   "nbconvert_exporter": "python",
   "pygments_lexer": "ipython3",
   "version": "3.13.5"
  }
 },
 "nbformat": 4,
 "nbformat_minor": 5
}
