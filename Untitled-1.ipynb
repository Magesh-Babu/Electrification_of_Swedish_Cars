{
 "cells": [
  {
   "cell_type": "code",
   "execution_count": 1,
   "id": "c2a6db17",
   "metadata": {},
   "outputs": [],
   "source": [
    "# ingestion/fetch_queue_events.py\n",
    "\n",
    "import requests\n",
    "import json\n",
    "import os\n",
    "from dotenv import load_dotenv\n",
    "import pandas as pd"
   ]
  },
  {
   "cell_type": "code",
   "execution_count": 2,
   "id": "75feda03",
   "metadata": {},
   "outputs": [],
   "source": [
    "load_dotenv()\n",
    "API_KEY = os.getenv(\"TRAFIKVERKET_API_KEY\")"
   ]
  },
  {
   "cell_type": "code",
   "execution_count": 3,
   "id": "86a28223",
   "metadata": {},
   "outputs": [],
   "source": [
    "def fetch_queue_events():\n",
    "    url = \"https://api.trafikinfo.trafikverket.se/v2/data.json\"\n",
    "    \n",
    "    xml_query = f\"\"\"\n",
    "    <REQUEST>\n",
    "      <LOGIN authenticationkey=\"{API_KEY}\"/>\n",
    "      <QUERY objecttype=\"TrafficFlow\" namespace=\"Road.TrafficInfo\" schemaversion=\"1.5\">\n",
    "        <INCLUDE>AverageVehicleSpeed</INCLUDE>\n",
    "        <INCLUDE>VehicleFlowRate</INCLUDE>\n",
    "        <INCLUDE>MeasurementTime</INCLUDE>\n",
    "        <INCLUDE>Geometry</INCLUDE>\n",
    "        <INCLUDE>VehicleType</INCLUDE>\n",
    "        <INCLUDE>CountyNo</INCLUDE>\n",
    "        <INCLUDE>RegionId</INCLUDE>\n",
    "        <INCLUDE>SiteId</INCLUDE>\n",
    "      </QUERY>\n",
    "    </REQUEST>\n",
    "    \"\"\"\n",
    "\n",
    "    response = requests.post(url, data=xml_query.encode('utf-8'), headers={\"Content-Type\": \"text/xml\"})\n",
    "    \n",
    "    if response.status_code == 200:\n",
    "        data = response.json()\n",
    "        return data['RESPONSE']['RESULT'][0]['TrafficFlow']\n",
    "    else:\n",
    "        print(\"Error:\", response.status_code)\n",
    "        return []"
   ]
  },
  {
   "cell_type": "code",
   "execution_count": 4,
   "id": "3765e284",
   "metadata": {},
   "outputs": [],
   "source": [
    "if __name__ == \"__main__\":\n",
    "    data = fetch_queue_events()\n",
    "    #print(data)  # Preview first two entries"
   ]
  },
  {
   "cell_type": "code",
   "execution_count": 21,
   "id": "9f27dcb2",
   "metadata": {},
   "outputs": [],
   "source": [
    "df = pd.DataFrame(data)"
   ]
  },
  {
   "cell_type": "code",
   "execution_count": 22,
   "id": "d6093077",
   "metadata": {},
   "outputs": [
    {
     "data": {
      "text/plain": [
       "SiteId                 0\n",
       "MeasurementTime        0\n",
       "VehicleType            0\n",
       "VehicleFlowRate        0\n",
       "AverageVehicleSpeed    0\n",
       "CountyNo               0\n",
       "Geometry               0\n",
       "RegionId               0\n",
       "dtype: int64"
      ]
     },
     "execution_count": 22,
     "metadata": {},
     "output_type": "execute_result"
    }
   ],
   "source": [
    "df.isnull().sum()"
   ]
  },
  {
   "cell_type": "code",
   "execution_count": 6,
   "id": "c1a23fbf",
   "metadata": {},
   "outputs": [
    {
     "data": {
      "text/plain": [
       "(3534, 8)"
      ]
     },
     "execution_count": 6,
     "metadata": {},
     "output_type": "execute_result"
    }
   ],
   "source": [
    "df.shape"
   ]
  },
  {
   "cell_type": "code",
   "execution_count": 7,
   "id": "64e62e9f",
   "metadata": {},
   "outputs": [
    {
     "data": {
      "text/html": [
       "<div>\n",
       "<style scoped>\n",
       "    .dataframe tbody tr th:only-of-type {\n",
       "        vertical-align: middle;\n",
       "    }\n",
       "\n",
       "    .dataframe tbody tr th {\n",
       "        vertical-align: top;\n",
       "    }\n",
       "\n",
       "    .dataframe thead th {\n",
       "        text-align: right;\n",
       "    }\n",
       "</style>\n",
       "<table border=\"1\" class=\"dataframe\">\n",
       "  <thead>\n",
       "    <tr style=\"text-align: right;\">\n",
       "      <th></th>\n",
       "      <th>SiteId</th>\n",
       "      <th>MeasurementTime</th>\n",
       "      <th>VehicleType</th>\n",
       "      <th>VehicleFlowRate</th>\n",
       "      <th>AverageVehicleSpeed</th>\n",
       "      <th>CountyNo</th>\n",
       "      <th>Geometry</th>\n",
       "      <th>RegionId</th>\n",
       "    </tr>\n",
       "  </thead>\n",
       "  <tbody>\n",
       "    <tr>\n",
       "      <th>0</th>\n",
       "      <td>40</td>\n",
       "      <td>2025-07-29T14:04:00.000+02:00</td>\n",
       "      <td>anyVehicle</td>\n",
       "      <td>1200</td>\n",
       "      <td>68.60</td>\n",
       "      <td>1</td>\n",
       "      <td>{'SWEREF99TM': 'POINT (677754.96 6578623.19)',...</td>\n",
       "      <td>4</td>\n",
       "    </tr>\n",
       "    <tr>\n",
       "      <th>1</th>\n",
       "      <td>4306</td>\n",
       "      <td>2025-07-29T14:04:00.000+02:00</td>\n",
       "      <td>anyVehicle</td>\n",
       "      <td>960</td>\n",
       "      <td>64.15</td>\n",
       "      <td>1</td>\n",
       "      <td>{'SWEREF99TM': 'POINT (674788.02 6583302.84)',...</td>\n",
       "      <td>4</td>\n",
       "    </tr>\n",
       "    <tr>\n",
       "      <th>2</th>\n",
       "      <td>861</td>\n",
       "      <td>2025-07-29T14:04:00.000+02:00</td>\n",
       "      <td>anyVehicle</td>\n",
       "      <td>780</td>\n",
       "      <td>89.64</td>\n",
       "      <td>1</td>\n",
       "      <td>{'SWEREF99TM': 'POINT (651018.96 6563771.14)',...</td>\n",
       "      <td>4</td>\n",
       "    </tr>\n",
       "    <tr>\n",
       "      <th>3</th>\n",
       "      <td>1471</td>\n",
       "      <td>2025-07-29T14:04:00.000+02:00</td>\n",
       "      <td>anyVehicle</td>\n",
       "      <td>1080</td>\n",
       "      <td>79.74</td>\n",
       "      <td>1</td>\n",
       "      <td>{'SWEREF99TM': 'POINT (652805.94 6565755.17)',...</td>\n",
       "      <td>4</td>\n",
       "    </tr>\n",
       "    <tr>\n",
       "      <th>4</th>\n",
       "      <td>174</td>\n",
       "      <td>2025-07-29T14:04:00.000+02:00</td>\n",
       "      <td>anyVehicle</td>\n",
       "      <td>720</td>\n",
       "      <td>83.82</td>\n",
       "      <td>1</td>\n",
       "      <td>{'SWEREF99TM': 'POINT (656154.96 6566753.11)',...</td>\n",
       "      <td>4</td>\n",
       "    </tr>\n",
       "  </tbody>\n",
       "</table>\n",
       "</div>"
      ],
      "text/plain": [
       "   SiteId                MeasurementTime VehicleType  VehicleFlowRate  \\\n",
       "0      40  2025-07-29T14:04:00.000+02:00  anyVehicle             1200   \n",
       "1    4306  2025-07-29T14:04:00.000+02:00  anyVehicle              960   \n",
       "2     861  2025-07-29T14:04:00.000+02:00  anyVehicle              780   \n",
       "3    1471  2025-07-29T14:04:00.000+02:00  anyVehicle             1080   \n",
       "4     174  2025-07-29T14:04:00.000+02:00  anyVehicle              720   \n",
       "\n",
       "   AverageVehicleSpeed  CountyNo  \\\n",
       "0                68.60         1   \n",
       "1                64.15         1   \n",
       "2                89.64         1   \n",
       "3                79.74         1   \n",
       "4                83.82         1   \n",
       "\n",
       "                                            Geometry  RegionId  \n",
       "0  {'SWEREF99TM': 'POINT (677754.96 6578623.19)',...         4  \n",
       "1  {'SWEREF99TM': 'POINT (674788.02 6583302.84)',...         4  \n",
       "2  {'SWEREF99TM': 'POINT (651018.96 6563771.14)',...         4  \n",
       "3  {'SWEREF99TM': 'POINT (652805.94 6565755.17)',...         4  \n",
       "4  {'SWEREF99TM': 'POINT (656154.96 6566753.11)',...         4  "
      ]
     },
     "execution_count": 7,
     "metadata": {},
     "output_type": "execute_result"
    }
   ],
   "source": [
    "df.head(5) # Preview first two entries"
   ]
  },
  {
   "cell_type": "code",
   "execution_count": 9,
   "id": "0bd791eb",
   "metadata": {},
   "outputs": [
    {
     "data": {
      "text/plain": [
       "3228"
      ]
     },
     "execution_count": 9,
     "metadata": {},
     "output_type": "execute_result"
    }
   ],
   "source": [
    "df.SiteId.nunique()"
   ]
  },
  {
   "cell_type": "code",
   "execution_count": 8,
   "id": "7c023bce",
   "metadata": {},
   "outputs": [
    {
     "data": {
      "text/plain": [
       "SiteId\n",
       "3200    7\n",
       "3198    7\n",
       "3197    7\n",
       "3196    7\n",
       "3199    7\n",
       "       ..\n",
       "387     1\n",
       "1116    1\n",
       "780     1\n",
       "850     1\n",
       "860     1\n",
       "Name: count, Length: 3228, dtype: int64"
      ]
     },
     "execution_count": 8,
     "metadata": {},
     "output_type": "execute_result"
    }
   ],
   "source": [
    "df.SiteId.value_counts()"
   ]
  },
  {
   "cell_type": "code",
   "execution_count": 15,
   "id": "7f8bf4c3",
   "metadata": {},
   "outputs": [
    {
     "data": {
      "text/html": [
       "<div>\n",
       "<style scoped>\n",
       "    .dataframe tbody tr th:only-of-type {\n",
       "        vertical-align: middle;\n",
       "    }\n",
       "\n",
       "    .dataframe tbody tr th {\n",
       "        vertical-align: top;\n",
       "    }\n",
       "\n",
       "    .dataframe thead th {\n",
       "        text-align: right;\n",
       "    }\n",
       "</style>\n",
       "<table border=\"1\" class=\"dataframe\">\n",
       "  <thead>\n",
       "    <tr style=\"text-align: right;\">\n",
       "      <th></th>\n",
       "      <th>SiteId</th>\n",
       "      <th>MeasurementTime</th>\n",
       "      <th>VehicleType</th>\n",
       "      <th>VehicleFlowRate</th>\n",
       "      <th>AverageVehicleSpeed</th>\n",
       "      <th>CountyNo</th>\n",
       "      <th>Geometry</th>\n",
       "      <th>RegionId</th>\n",
       "    </tr>\n",
       "  </thead>\n",
       "  <tbody>\n",
       "    <tr>\n",
       "      <th>3429</th>\n",
       "      <td>3196</td>\n",
       "      <td>2025-07-29T14:04:00.000+02:00</td>\n",
       "      <td>car</td>\n",
       "      <td>420</td>\n",
       "      <td>75.50</td>\n",
       "      <td>14</td>\n",
       "      <td>{'SWEREF99TM': 'POINT (322746 6392295.06)', 'W...</td>\n",
       "      <td>5</td>\n",
       "    </tr>\n",
       "    <tr>\n",
       "      <th>3430</th>\n",
       "      <td>3196</td>\n",
       "      <td>2025-07-29T14:04:00.000+02:00</td>\n",
       "      <td>anyVehicle</td>\n",
       "      <td>540</td>\n",
       "      <td>75.47</td>\n",
       "      <td>14</td>\n",
       "      <td>{'SWEREF99TM': 'POINT (322746 6392295.06)', 'W...</td>\n",
       "      <td>5</td>\n",
       "    </tr>\n",
       "    <tr>\n",
       "      <th>3436</th>\n",
       "      <td>3196</td>\n",
       "      <td>2025-07-29T14:02:00.000+02:00</td>\n",
       "      <td>trailer</td>\n",
       "      <td>120</td>\n",
       "      <td>69.40</td>\n",
       "      <td>14</td>\n",
       "      <td>{'SWEREF99TM': 'POINT (322746 6392295.06)', 'W...</td>\n",
       "      <td>5</td>\n",
       "    </tr>\n",
       "    <tr>\n",
       "      <th>3437</th>\n",
       "      <td>3196</td>\n",
       "      <td>2025-07-29T14:04:00.000+02:00</td>\n",
       "      <td>bus</td>\n",
       "      <td>60</td>\n",
       "      <td>75.90</td>\n",
       "      <td>14</td>\n",
       "      <td>{'SWEREF99TM': 'POINT (322746 6392295.06)', 'W...</td>\n",
       "      <td>5</td>\n",
       "    </tr>\n",
       "    <tr>\n",
       "      <th>3440</th>\n",
       "      <td>3196</td>\n",
       "      <td>2025-07-29T14:01:00.000+02:00</td>\n",
       "      <td>carWithTrailer</td>\n",
       "      <td>60</td>\n",
       "      <td>73.00</td>\n",
       "      <td>14</td>\n",
       "      <td>{'SWEREF99TM': 'POINT (322746 6392295.06)', 'W...</td>\n",
       "      <td>5</td>\n",
       "    </tr>\n",
       "    <tr>\n",
       "      <th>3442</th>\n",
       "      <td>3196</td>\n",
       "      <td>2025-07-29T14:04:00.000+02:00</td>\n",
       "      <td>lorry</td>\n",
       "      <td>60</td>\n",
       "      <td>74.80</td>\n",
       "      <td>14</td>\n",
       "      <td>{'SWEREF99TM': 'POINT (322746 6392295.06)', 'W...</td>\n",
       "      <td>5</td>\n",
       "    </tr>\n",
       "    <tr>\n",
       "      <th>3447</th>\n",
       "      <td>3196</td>\n",
       "      <td>2025-07-29T13:07:00.000+02:00</td>\n",
       "      <td>other</td>\n",
       "      <td>60</td>\n",
       "      <td>51.10</td>\n",
       "      <td>14</td>\n",
       "      <td>{'SWEREF99TM': 'POINT (322746 6392295.06)', 'W...</td>\n",
       "      <td>5</td>\n",
       "    </tr>\n",
       "  </tbody>\n",
       "</table>\n",
       "</div>"
      ],
      "text/plain": [
       "      SiteId                MeasurementTime     VehicleType  VehicleFlowRate  \\\n",
       "3429    3196  2025-07-29T14:04:00.000+02:00             car              420   \n",
       "3430    3196  2025-07-29T14:04:00.000+02:00      anyVehicle              540   \n",
       "3436    3196  2025-07-29T14:02:00.000+02:00         trailer              120   \n",
       "3437    3196  2025-07-29T14:04:00.000+02:00             bus               60   \n",
       "3440    3196  2025-07-29T14:01:00.000+02:00  carWithTrailer               60   \n",
       "3442    3196  2025-07-29T14:04:00.000+02:00           lorry               60   \n",
       "3447    3196  2025-07-29T13:07:00.000+02:00           other               60   \n",
       "\n",
       "      AverageVehicleSpeed  CountyNo  \\\n",
       "3429                75.50        14   \n",
       "3430                75.47        14   \n",
       "3436                69.40        14   \n",
       "3437                75.90        14   \n",
       "3440                73.00        14   \n",
       "3442                74.80        14   \n",
       "3447                51.10        14   \n",
       "\n",
       "                                               Geometry  RegionId  \n",
       "3429  {'SWEREF99TM': 'POINT (322746 6392295.06)', 'W...         5  \n",
       "3430  {'SWEREF99TM': 'POINT (322746 6392295.06)', 'W...         5  \n",
       "3436  {'SWEREF99TM': 'POINT (322746 6392295.06)', 'W...         5  \n",
       "3437  {'SWEREF99TM': 'POINT (322746 6392295.06)', 'W...         5  \n",
       "3440  {'SWEREF99TM': 'POINT (322746 6392295.06)', 'W...         5  \n",
       "3442  {'SWEREF99TM': 'POINT (322746 6392295.06)', 'W...         5  \n",
       "3447  {'SWEREF99TM': 'POINT (322746 6392295.06)', 'W...         5  "
      ]
     },
     "execution_count": 15,
     "metadata": {},
     "output_type": "execute_result"
    }
   ],
   "source": [
    "df[df['SiteId'] == 3196]"
   ]
  },
  {
   "cell_type": "code",
   "execution_count": 20,
   "id": "308adab9",
   "metadata": {},
   "outputs": [
    {
     "data": {
      "text/plain": [
       "CountyNo\n",
       "1     2455\n",
       "14     940\n",
       "12     139\n",
       "Name: count, dtype: int64"
      ]
     },
     "execution_count": 20,
     "metadata": {},
     "output_type": "execute_result"
    }
   ],
   "source": [
    "df.CountyNo.value_counts()"
   ]
  },
  {
   "cell_type": "code",
   "execution_count": null,
   "id": "ce34673e",
   "metadata": {},
   "outputs": [],
   "source": [
    "df.shape"
   ]
  },
  {
   "cell_type": "code",
   "execution_count": null,
   "id": "0205fd99",
   "metadata": {},
   "outputs": [],
   "source": [
    "# Extract WGS84 string directly from the dictionary\n",
    "df['wgs84'] = df['Geometry'].apply(lambda x: x['WGS84'])"
   ]
  },
  {
   "cell_type": "code",
   "execution_count": null,
   "id": "77ce2659",
   "metadata": {},
   "outputs": [],
   "source": [
    "# Use regex to extract longitude and latitude from \"POINT (lon lat)\"\n",
    "df[['longitude', 'latitude']] = df['wgs84'].str.extract(r'POINT \\(([-\\d.]+) ([-\\d.]+)\\)')"
   ]
  },
  {
   "cell_type": "code",
   "execution_count": null,
   "id": "2605776c",
   "metadata": {},
   "outputs": [],
   "source": [
    "# Convert to float\n",
    "df['longitude'] = df['longitude'].astype(float)\n",
    "df['latitude'] = df['latitude'].astype(float)"
   ]
  },
  {
   "cell_type": "code",
   "execution_count": null,
   "id": "f0cda5f8",
   "metadata": {},
   "outputs": [],
   "source": [
    "df.head(5)  # Preview first five entries"
   ]
  },
  {
   "cell_type": "code",
   "execution_count": null,
   "id": "6e5d5ef3",
   "metadata": {},
   "outputs": [],
   "source": [
    "df.MeasurementTime.nunique()"
   ]
  },
  {
   "cell_type": "code",
   "execution_count": null,
   "id": "dbb79dc2",
   "metadata": {},
   "outputs": [],
   "source": [
    "df.latitude.nunique()"
   ]
  },
  {
   "cell_type": "code",
   "execution_count": null,
   "id": "7155ec03",
   "metadata": {},
   "outputs": [],
   "source": [
    "df.MeasurementTime.value_counts()"
   ]
  },
  {
   "cell_type": "code",
   "execution_count": null,
   "id": "60c99ec3",
   "metadata": {},
   "outputs": [],
   "source": [
    "df.longitude.value_counts()"
   ]
  },
  {
   "cell_type": "code",
   "execution_count": null,
   "id": "1ef073a4",
   "metadata": {},
   "outputs": [],
   "source": [
    "print(df.head(2))  # Preview first two entries\n"
   ]
  },
  {
   "cell_type": "code",
   "execution_count": null,
   "id": "d9b773d2",
   "metadata": {},
   "outputs": [],
   "source": []
  }
 ],
 "metadata": {
  "kernelspec": {
   "display_name": "data_analysis_env",
   "language": "python",
   "name": "python3"
  },
  "language_info": {
   "codemirror_mode": {
    "name": "ipython",
    "version": 3
   },
   "file_extension": ".py",
   "mimetype": "text/x-python",
   "name": "python",
   "nbconvert_exporter": "python",
   "pygments_lexer": "ipython3",
   "version": "3.13.5"
  }
 },
 "nbformat": 4,
 "nbformat_minor": 5
}
