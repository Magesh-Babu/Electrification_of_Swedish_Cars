{
 "cells": [
  {
   "cell_type": "code",
   "execution_count": null,
   "id": "c2a6db17",
   "metadata": {},
   "outputs": [],
   "source": [
    "# ingestion/fetch_queue_events.py\n",
    "\n",
    "import requests\n",
    "import xmltodict\n",
    "import os\n",
    "from dotenv import load_dotenv"
   ]
  },
  {
   "cell_type": "code",
   "execution_count": null,
   "id": "75feda03",
   "metadata": {},
   "outputs": [],
   "source": [
    "load_dotenv()\n",
    "API_KEY = os.getenv(\"TRAFIKVERKET_API_KEY\")"
   ]
  },
  {
   "cell_type": "code",
   "execution_count": null,
   "id": "86a28223",
   "metadata": {},
   "outputs": [],
   "source": [
    "def fetch_queue_events():\n",
    "    url = \"https://api.trafikinfo.trafikverket.se/v2/data.json\"\n",
    "    \n",
    "    xml_query = f\"\"\"\n",
    "    <REQUEST>\n",
    "      <LOGIN authenticationkey=\"{API_KEY}\"/>\n",
    "      <QUERY objecttype=\"TrafficFlow\" namespace=\"Road.TrafficInfo\" schemaversion=\"1.5\">\n",
    "        <INCLUDE>AverageVehicleSpeed</INCLUDE>\n",
    "        <INCLUDE>VehicleFlowRate</INCLUDE>\n",
    "        <INCLUDE>MeasurementTime</INCLUDE>\n",
    "        <INCLUDE>Geometry</INCLUDE>\n",
    "        <INCLUDE>VehicleType</INCLUDE>\n",
    "        <INCLUDE>CountyNo</INCLUDE>\n",
    "      </QUERY>\n",
    "    </REQUEST>\n",
    "    \"\"\"\n",
    "\n",
    "    response = requests.post(url, data=xml_query.encode('utf-8'), headers={\"Content-Type\": \"text/xml\"})\n",
    "    \n",
    "    if response.status_code == 200:\n",
    "        data = xmltodict.parse(response.content)\n",
    "        return data['RESPONSE']['RESULT'][0]['Queue']\n",
    "    else:\n",
    "        print(\"Error:\", response.status_code)\n",
    "        return []"
   ]
  },
  {
   "cell_type": "code",
   "execution_count": null,
   "id": "3765e284",
   "metadata": {},
   "outputs": [],
   "source": [
    "if __name__ == \"__main__\":\n",
    "    data = fetch_queue_events()\n",
    "    print(data[:2])  # Preview first two entries"
   ]
  }
 ],
 "metadata": {
  "language_info": {
   "name": "python"
  }
 },
 "nbformat": 4,
 "nbformat_minor": 5
}
