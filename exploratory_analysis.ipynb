{
 "cells": [
  {
   "cell_type": "code",
   "execution_count": 10,
   "id": "be59eeee",
   "metadata": {},
   "outputs": [],
   "source": [
    "import pandas as pd\n",
    "import seaborn as sns\n",
    "import matplotlib.pyplot as plt\n",
    "import os"
   ]
  },
  {
   "cell_type": "code",
   "execution_count": 12,
   "id": "14810d8e",
   "metadata": {},
   "outputs": [],
   "source": [
    "df = pd.read_csv('csv_files/cleaned_traffic_data.csv')"
   ]
  },
  {
   "cell_type": "code",
   "execution_count": 13,
   "id": "fb0c77e8",
   "metadata": {},
   "outputs": [
    {
     "name": "stdout",
     "output_type": "stream",
     "text": [
      "The shape of the dataset :  (3531, 9)\n"
     ]
    }
   ],
   "source": [
    "# print the shape\n",
    "print('The shape of the dataset : ', df.shape)"
   ]
  },
  {
   "cell_type": "code",
   "execution_count": 14,
   "id": "010232cd",
   "metadata": {},
   "outputs": [
    {
     "data": {
      "text/html": [
       "<div>\n",
       "<style scoped>\n",
       "    .dataframe tbody tr th:only-of-type {\n",
       "        vertical-align: middle;\n",
       "    }\n",
       "\n",
       "    .dataframe tbody tr th {\n",
       "        vertical-align: top;\n",
       "    }\n",
       "\n",
       "    .dataframe thead th {\n",
       "        text-align: right;\n",
       "    }\n",
       "</style>\n",
       "<table border=\"1\" class=\"dataframe\">\n",
       "  <thead>\n",
       "    <tr style=\"text-align: right;\">\n",
       "      <th></th>\n",
       "      <th>MeasurementTime</th>\n",
       "      <th>VehicleType</th>\n",
       "      <th>VehicleFlowRate</th>\n",
       "      <th>AverageVehicleSpeed</th>\n",
       "      <th>CountyNo</th>\n",
       "      <th>Geometry</th>\n",
       "      <th>RegionId</th>\n",
       "      <th>longitude</th>\n",
       "      <th>latitude</th>\n",
       "    </tr>\n",
       "  </thead>\n",
       "  <tbody>\n",
       "    <tr>\n",
       "      <th>0</th>\n",
       "      <td>2025-08-02 11:12:00+02:00</td>\n",
       "      <td>anyVehicle</td>\n",
       "      <td>1140</td>\n",
       "      <td>67.11</td>\n",
       "      <td>1</td>\n",
       "      <td>{'SWEREF99TM': 'POINT (677754.96 6578623.19)',...</td>\n",
       "      <td>4</td>\n",
       "      <td>18.122711</td>\n",
       "      <td>59.308964</td>\n",
       "    </tr>\n",
       "    <tr>\n",
       "      <th>1</th>\n",
       "      <td>2025-08-02 11:12:00+02:00</td>\n",
       "      <td>anyVehicle</td>\n",
       "      <td>660</td>\n",
       "      <td>68.53</td>\n",
       "      <td>1</td>\n",
       "      <td>{'SWEREF99TM': 'POINT (674788.02 6583302.84)',...</td>\n",
       "      <td>4</td>\n",
       "      <td>18.074469</td>\n",
       "      <td>59.352165</td>\n",
       "    </tr>\n",
       "    <tr>\n",
       "      <th>2</th>\n",
       "      <td>2025-08-02 11:12:00+02:00</td>\n",
       "      <td>anyVehicle</td>\n",
       "      <td>1440</td>\n",
       "      <td>49.47</td>\n",
       "      <td>1</td>\n",
       "      <td>{'SWEREF99TM': 'POINT (651018.96 6563771.14)',...</td>\n",
       "      <td>4</td>\n",
       "      <td>17.643320</td>\n",
       "      <td>59.186134</td>\n",
       "    </tr>\n",
       "    <tr>\n",
       "      <th>3</th>\n",
       "      <td>2025-08-02 11:12:00+02:00</td>\n",
       "      <td>anyVehicle</td>\n",
       "      <td>780</td>\n",
       "      <td>88.56</td>\n",
       "      <td>1</td>\n",
       "      <td>{'SWEREF99TM': 'POINT (652805.94 6565755.17)',...</td>\n",
       "      <td>4</td>\n",
       "      <td>17.675951</td>\n",
       "      <td>59.203293</td>\n",
       "    </tr>\n",
       "    <tr>\n",
       "      <th>4</th>\n",
       "      <td>2025-08-02 11:12:00+02:00</td>\n",
       "      <td>anyVehicle</td>\n",
       "      <td>780</td>\n",
       "      <td>89.78</td>\n",
       "      <td>1</td>\n",
       "      <td>{'SWEREF99TM': 'POINT (656154.96 6566753.11)',...</td>\n",
       "      <td>4</td>\n",
       "      <td>17.735239</td>\n",
       "      <td>59.211025</td>\n",
       "    </tr>\n",
       "  </tbody>\n",
       "</table>\n",
       "</div>"
      ],
      "text/plain": [
       "             MeasurementTime VehicleType  VehicleFlowRate  \\\n",
       "0  2025-08-02 11:12:00+02:00  anyVehicle             1140   \n",
       "1  2025-08-02 11:12:00+02:00  anyVehicle              660   \n",
       "2  2025-08-02 11:12:00+02:00  anyVehicle             1440   \n",
       "3  2025-08-02 11:12:00+02:00  anyVehicle              780   \n",
       "4  2025-08-02 11:12:00+02:00  anyVehicle              780   \n",
       "\n",
       "   AverageVehicleSpeed  CountyNo  \\\n",
       "0                67.11         1   \n",
       "1                68.53         1   \n",
       "2                49.47         1   \n",
       "3                88.56         1   \n",
       "4                89.78         1   \n",
       "\n",
       "                                            Geometry  RegionId  longitude  \\\n",
       "0  {'SWEREF99TM': 'POINT (677754.96 6578623.19)',...         4  18.122711   \n",
       "1  {'SWEREF99TM': 'POINT (674788.02 6583302.84)',...         4  18.074469   \n",
       "2  {'SWEREF99TM': 'POINT (651018.96 6563771.14)',...         4  17.643320   \n",
       "3  {'SWEREF99TM': 'POINT (652805.94 6565755.17)',...         4  17.675951   \n",
       "4  {'SWEREF99TM': 'POINT (656154.96 6566753.11)',...         4  17.735239   \n",
       "\n",
       "    latitude  \n",
       "0  59.308964  \n",
       "1  59.352165  \n",
       "2  59.186134  \n",
       "3  59.203293  \n",
       "4  59.211025  "
      ]
     },
     "execution_count": 14,
     "metadata": {},
     "output_type": "execute_result"
    }
   ],
   "source": [
    "# preview dataset\n",
    "df.head()"
   ]
  },
  {
   "cell_type": "code",
   "execution_count": 15,
   "id": "a8b91d7b",
   "metadata": {},
   "outputs": [
    {
     "name": "stdout",
     "output_type": "stream",
     "text": [
      "<class 'pandas.core.frame.DataFrame'>\n",
      "RangeIndex: 3531 entries, 0 to 3530\n",
      "Data columns (total 9 columns):\n",
      " #   Column               Non-Null Count  Dtype  \n",
      "---  ------               --------------  -----  \n",
      " 0   MeasurementTime      3531 non-null   object \n",
      " 1   VehicleType          3531 non-null   object \n",
      " 2   VehicleFlowRate      3531 non-null   int64  \n",
      " 3   AverageVehicleSpeed  3531 non-null   float64\n",
      " 4   CountyNo             3531 non-null   int64  \n",
      " 5   Geometry             3531 non-null   object \n",
      " 6   RegionId             3531 non-null   int64  \n",
      " 7   longitude            3531 non-null   float64\n",
      " 8   latitude             3531 non-null   float64\n",
      "dtypes: float64(3), int64(3), object(3)\n",
      "memory usage: 248.4+ KB\n"
     ]
    }
   ],
   "source": [
    "# summary of dataset\n",
    "df.info()"
   ]
  },
  {
   "cell_type": "code",
   "execution_count": 17,
   "id": "f9df8313",
   "metadata": {},
   "outputs": [
    {
     "data": {
      "text/html": [
       "<div>\n",
       "<style scoped>\n",
       "    .dataframe tbody tr th:only-of-type {\n",
       "        vertical-align: middle;\n",
       "    }\n",
       "\n",
       "    .dataframe tbody tr th {\n",
       "        vertical-align: top;\n",
       "    }\n",
       "\n",
       "    .dataframe thead th {\n",
       "        text-align: right;\n",
       "    }\n",
       "</style>\n",
       "<table border=\"1\" class=\"dataframe\">\n",
       "  <thead>\n",
       "    <tr style=\"text-align: right;\">\n",
       "      <th></th>\n",
       "      <th>VehicleFlowRate</th>\n",
       "      <th>AverageVehicleSpeed</th>\n",
       "      <th>CountyNo</th>\n",
       "      <th>RegionId</th>\n",
       "      <th>longitude</th>\n",
       "      <th>latitude</th>\n",
       "    </tr>\n",
       "  </thead>\n",
       "  <tbody>\n",
       "    <tr>\n",
       "      <th>count</th>\n",
       "      <td>3531.000000</td>\n",
       "      <td>3531.000000</td>\n",
       "      <td>3531.000000</td>\n",
       "      <td>3531.000000</td>\n",
       "      <td>3531.000000</td>\n",
       "      <td>3531.000000</td>\n",
       "    </tr>\n",
       "    <tr>\n",
       "      <th>mean</th>\n",
       "      <td>625.046729</td>\n",
       "      <td>75.484899</td>\n",
       "      <td>4.887001</td>\n",
       "      <td>4.344095</td>\n",
       "      <td>16.201493</td>\n",
       "      <td>58.756512</td>\n",
       "    </tr>\n",
       "    <tr>\n",
       "      <th>std</th>\n",
       "      <td>484.528236</td>\n",
       "      <td>17.648256</td>\n",
       "      <td>5.879814</td>\n",
       "      <td>0.551312</td>\n",
       "      <td>2.713184</td>\n",
       "      <td>0.953524</td>\n",
       "    </tr>\n",
       "    <tr>\n",
       "      <th>min</th>\n",
       "      <td>0.000000</td>\n",
       "      <td>5.760000</td>\n",
       "      <td>1.000000</td>\n",
       "      <td>4.000000</td>\n",
       "      <td>11.875285</td>\n",
       "      <td>55.549793</td>\n",
       "    </tr>\n",
       "    <tr>\n",
       "      <th>25%</th>\n",
       "      <td>240.000000</td>\n",
       "      <td>65.755000</td>\n",
       "      <td>1.000000</td>\n",
       "      <td>4.000000</td>\n",
       "      <td>12.047358</td>\n",
       "      <td>57.727942</td>\n",
       "    </tr>\n",
       "    <tr>\n",
       "      <th>50%</th>\n",
       "      <td>540.000000</td>\n",
       "      <td>74.800000</td>\n",
       "      <td>1.000000</td>\n",
       "      <td>4.000000</td>\n",
       "      <td>17.966436</td>\n",
       "      <td>59.296497</td>\n",
       "    </tr>\n",
       "    <tr>\n",
       "      <th>75%</th>\n",
       "      <td>960.000000</td>\n",
       "      <td>84.620000</td>\n",
       "      <td>14.000000</td>\n",
       "      <td>5.000000</td>\n",
       "      <td>18.047761</td>\n",
       "      <td>59.355579</td>\n",
       "    </tr>\n",
       "    <tr>\n",
       "      <th>max</th>\n",
       "      <td>5940.000000</td>\n",
       "      <td>255.000000</td>\n",
       "      <td>14.000000</td>\n",
       "      <td>6.000000</td>\n",
       "      <td>18.432346</td>\n",
       "      <td>59.604362</td>\n",
       "    </tr>\n",
       "  </tbody>\n",
       "</table>\n",
       "</div>"
      ],
      "text/plain": [
       "       VehicleFlowRate  AverageVehicleSpeed     CountyNo     RegionId  \\\n",
       "count      3531.000000          3531.000000  3531.000000  3531.000000   \n",
       "mean        625.046729            75.484899     4.887001     4.344095   \n",
       "std         484.528236            17.648256     5.879814     0.551312   \n",
       "min           0.000000             5.760000     1.000000     4.000000   \n",
       "25%         240.000000            65.755000     1.000000     4.000000   \n",
       "50%         540.000000            74.800000     1.000000     4.000000   \n",
       "75%         960.000000            84.620000    14.000000     5.000000   \n",
       "max        5940.000000           255.000000    14.000000     6.000000   \n",
       "\n",
       "         longitude     latitude  \n",
       "count  3531.000000  3531.000000  \n",
       "mean     16.201493    58.756512  \n",
       "std       2.713184     0.953524  \n",
       "min      11.875285    55.549793  \n",
       "25%      12.047358    57.727942  \n",
       "50%      17.966436    59.296497  \n",
       "75%      18.047761    59.355579  \n",
       "max      18.432346    59.604362  "
      ]
     },
     "execution_count": 17,
     "metadata": {},
     "output_type": "execute_result"
    }
   ],
   "source": [
    "# statistical properties of dataset\n",
    "df.describe()"
   ]
  },
  {
   "cell_type": "code",
   "execution_count": 18,
   "id": "19626e3f",
   "metadata": {},
   "outputs": [
    {
     "data": {
      "text/plain": [
       "3"
      ]
     },
     "execution_count": 18,
     "metadata": {},
     "output_type": "execute_result"
    }
   ],
   "source": [
    "df['CountyNo'].nunique()"
   ]
  },
  {
   "cell_type": "code",
   "execution_count": 19,
   "id": "8aa5624f",
   "metadata": {},
   "outputs": [
    {
     "data": {
      "text/plain": [
       "array([ 1, 14, 12])"
      ]
     },
     "execution_count": 19,
     "metadata": {},
     "output_type": "execute_result"
    }
   ],
   "source": [
    "df['CountyNo'].unique()"
   ]
  },
  {
   "cell_type": "code",
   "execution_count": 20,
   "id": "8fc6a168",
   "metadata": {},
   "outputs": [
    {
     "data": {
      "text/plain": [
       "CountyNo\n",
       "1     2454\n",
       "14     939\n",
       "12     138\n",
       "Name: count, dtype: int64"
      ]
     },
     "execution_count": 20,
     "metadata": {},
     "output_type": "execute_result"
    }
   ],
   "source": [
    "df['CountyNo'].value_counts()"
   ]
  },
  {
   "cell_type": "code",
   "execution_count": 23,
   "id": "4255d5c6",
   "metadata": {},
   "outputs": [
    {
     "data": {
      "image/png": "[encoded data removed]",
      "text/plain": [
       "<Figure size 800x600 with 1 Axes>"
      ]
     },
     "metadata": {},
     "output_type": "display_data"
    }
   ],
   "source": [
    "f, ax = plt.subplots(figsize=(8, 6))\n",
    "ax = sns.countplot(x=\"CountyNo\", data=df)\n",
    "plt.show()"
   ]
  },
  {
   "cell_type": "code",
   "execution_count": 24,
   "id": "0aeb4382",
   "metadata": {},
   "outputs": [
    {
     "data": {
      "text/plain": [
       "7"
      ]
     },
     "execution_count": 24,
     "metadata": {},
     "output_type": "execute_result"
    }
   ],
   "source": [
    "df['VehicleType'].nunique()"
   ]
  },
  {
   "cell_type": "code",
   "execution_count": 25,
   "id": "75c012bd",
   "metadata": {},
   "outputs": [
    {
     "data": {
      "text/plain": [
       "array(['anyVehicle', 'car', 'bus', 'trailer', 'lorry', 'other',\n",
       "       'carWithTrailer'], dtype=object)"
      ]
     },
     "execution_count": 25,
     "metadata": {},
     "output_type": "execute_result"
    }
   ],
   "source": [
    "df['VehicleType'].unique()"
   ]
  },
  {
   "cell_type": "code",
   "execution_count": 26,
   "id": "c2f79140",
   "metadata": {},
   "outputs": [
    {
     "data": {
      "text/plain": [
       "VehicleType\n",
       "anyVehicle        3227\n",
       "car                 53\n",
       "lorry               53\n",
       "carWithTrailer      51\n",
       "trailer             51\n",
       "bus                 50\n",
       "other               46\n",
       "Name: count, dtype: int64"
      ]
     },
     "execution_count": 26,
     "metadata": {},
     "output_type": "execute_result"
    }
   ],
   "source": [
    "df['VehicleType'].value_counts()"
   ]
  },
  {
   "cell_type": "code",
   "execution_count": 27,
   "id": "ce719e29",
   "metadata": {},
   "outputs": [
    {
     "data": {
      "image/png": "[encoded data removed]",
      "text/plain": [
       "<Figure size 800x600 with 1 Axes>"
      ]
     },
     "metadata": {},
     "output_type": "display_data"
    }
   ],
   "source": [
    "f, ax = plt.subplots(figsize=(8, 6))\n",
    "ax = sns.countplot(x=\"VehicleType\", data=df)\n",
    "plt.show()"
   ]
  },
  {
   "cell_type": "code",
   "execution_count": 28,
   "id": "78cefbbe",
   "metadata": {},
   "outputs": [
    {
     "data": {
      "text/plain": [
       "2219"
      ]
     },
     "execution_count": 28,
     "metadata": {},
     "output_type": "execute_result"
    }
   ],
   "source": [
    "df['AverageVehicleSpeed'].nunique()"
   ]
  },
  {
   "cell_type": "code",
   "execution_count": 36,
   "id": "4cb89be7",
   "metadata": {},
   "outputs": [
    {
     "data": {
      "image/png": "[encoded data removed]",
      "text/plain": [
       "<Figure size 1000x600 with 1 Axes>"
      ]
     },
     "metadata": {},
     "output_type": "display_data"
    }
   ],
   "source": [
    "f, ax = plt.subplots(figsize=(10,6))\n",
    "x = df['AverageVehicleSpeed']\n",
    "ax = sns.histplot(x, kde=False, bins=10, ax=ax)\n",
    "plt.show()"
   ]
  },
  {
   "cell_type": "code",
   "execution_count": 37,
   "id": "a493c6ea",
   "metadata": {},
   "outputs": [
    {
     "data": {
      "text/plain": [
       "37"
      ]
     },
     "execution_count": 37,
     "metadata": {},
     "output_type": "execute_result"
    }
   ],
   "source": [
    "df['VehicleFlowRate'].nunique()"
   ]
  },
  {
   "cell_type": "code",
   "execution_count": 38,
   "id": "09f71823",
   "metadata": {},
   "outputs": [
    {
     "data": {
      "image/png": "[encoded data removed]",
      "text/plain": [
       "<Figure size 1000x600 with 1 Axes>"
      ]
     },
     "metadata": {},
     "output_type": "display_data"
    }
   ],
   "source": [
    "f, ax = plt.subplots(figsize=(10,6))\n",
    "x = df['VehicleFlowRate']\n",
    "ax = sns.histplot(x, kde=False, bins=10, ax=ax)\n",
    "plt.show()"
   ]
  },
  {
   "cell_type": "code",
   "execution_count": null,
   "id": "617c1f19",
   "metadata": {},
   "outputs": [],
   "source": []
  }
 ],
 "metadata": {
  "kernelspec": {
   "display_name": "data_analysis_env",
   "language": "python",
   "name": "python3"
  },
  "language_info": {
   "codemirror_mode": {
    "name": "ipython",
    "version": 3
   },
   "file_extension": ".py",
   "mimetype": "text/x-python",
   "name": "python",
   "nbconvert_exporter": "python",
   "pygments_lexer": "ipython3",
   "version": "3.13.5"
  }
 },
 "nbformat": 4,
 "nbformat_minor": 5
}
