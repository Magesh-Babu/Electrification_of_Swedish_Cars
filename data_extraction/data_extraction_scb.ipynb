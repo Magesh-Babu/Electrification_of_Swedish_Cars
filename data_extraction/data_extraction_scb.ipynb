{
 "cells": [
  {
   "cell_type": "code",
   "execution_count": null,
   "id": "794f8ec5",
   "metadata": {},
   "outputs": [],
   "source": [
    "import requests\n",
    "import json"
   ]
  },
  {
   "cell_type": "code",
   "execution_count": null,
   "id": "934d8781",
   "metadata": {},
   "outputs": [],
   "source": [
    "session = requests.Session()"
   ]
  },
  {
   "cell_type": "code",
   "execution_count": null,
   "id": "557895f1",
   "metadata": {},
   "outputs": [],
   "source": [
    "query = {\n",
    "  \"query\": [\n",
    "    {\n",
    "      \"code\": \"Drivmedel\",\n",
    "      \"selection\": {\n",
    "        \"filter\": \"item\",\n",
    "        \"values\": [\n",
    "          \"100\",\n",
    "          \"110\"\n",
    "        ]\n",
    "      }\n",
    "    }\n",
    "  ],\n",
    "  \"response\": {\n",
    "    \"format\": \"json\"\n",
    "  }\n",
    "}\n",
    "url = \"https://api.scb.se/OV0104/v1/doris/en/ssd/START/TK/TK1001/TK1001A/PersBilarDrivMedel\"\n",
    "\n",
    "response = session.post(url, json=query)"
   ]
  },
  {
   "cell_type": "code",
   "execution_count": null,
   "id": "ed7422a1",
   "metadata": {},
   "outputs": [],
   "source": [
    "print(response)"
   ]
  },
  {
   "cell_type": "code",
   "execution_count": null,
   "id": "fe884ecf",
   "metadata": {},
   "outputs": [],
   "source": [
    "response_json = json.loads(response.content.decode('utf-8-sig'))"
   ]
  },
  {
   "cell_type": "code",
   "execution_count": null,
   "id": "413e6789",
   "metadata": {},
   "outputs": [],
   "source": [
    "response_json"
   ]
  },
  {
   "cell_type": "code",
   "execution_count": null,
   "id": "a60d410d",
   "metadata": {},
   "outputs": [],
   "source": [
    "import pandas as pd"
   ]
  },
  {
   "cell_type": "code",
   "execution_count": null,
   "id": "6b3f401f",
   "metadata": {},
   "outputs": [],
   "source": [
    "# Create an empty list to store our rows\n",
    "data_rows = []\n",
    "\n",
    "# Loop through each item in the 'data' list\n",
    "for item in response_json['data']:\n",
    "    # The 'key' is a list of [Region, FuelType, YearMonth]\n",
    "    region = item['key'][0]\n",
    "    fuel_type = item['key'][1]\n",
    "    year_month = item['key'][2]\n",
    "    \n",
    "    # The 'values' is a list with the number of registrations\n",
    "    number_of_registrations = int(item['values'][0]) # Convert to integer\n",
    "    \n",
    "    # Append the extracted data as a dictionary to our list\n",
    "    data_rows.append({\n",
    "        'YearMonth': year_month,\n",
    "        'Region': region,\n",
    "        'FuelType': fuel_type,\n",
    "        'NumberOfRegistration': number_of_registrations\n",
    "    })\n",
    "\n",
    "# Create the pandas DataFrame from our list of dictionaries\n",
    "df = pd.DataFrame(data_rows)"
   ]
  },
  {
   "cell_type": "code",
   "execution_count": null,
   "id": "b648727f",
   "metadata": {},
   "outputs": [],
   "source": [
    "df.head(5)  # Preview first five entries"
   ]
  },
  {
   "cell_type": "code",
   "execution_count": null,
   "id": "53035202",
   "metadata": {},
   "outputs": [],
   "source": [
    "df.shape"
   ]
  },
  {
   "cell_type": "code",
   "execution_count": null,
   "id": "8126e88e",
   "metadata": {},
   "outputs": [],
   "source": [
    "df['FuelType'].value_counts()"
   ]
  },
  {
   "cell_type": "code",
   "execution_count": null,
   "id": "46c99380",
   "metadata": {},
   "outputs": [],
   "source": [
    "df['Region'].value_counts()"
   ]
  },
  {
   "cell_type": "code",
   "execution_count": 1,
   "id": "d08c099c",
   "metadata": {},
   "outputs": [],
   "source": [
    "import requests\n",
    "import json"
   ]
  },
  {
   "cell_type": "code",
   "execution_count": 2,
   "id": "c62dd8e9",
   "metadata": {},
   "outputs": [],
   "source": [
    "session = requests.Session()"
   ]
  },
  {
   "cell_type": "code",
   "execution_count": 3,
   "id": "51c0f950",
   "metadata": {},
   "outputs": [],
   "source": [
    "query = {\n",
    "        \"query\": [\n",
    "            {\n",
    "                \"code\": \"Bakgrund\",\n",
    "                \"selection\": {\n",
    "                    \"filter\": \"vs:IntegrationBakgrundÅlder\",\n",
    "                    \"values\": [\n",
    "                            \"tot20-64\",\n",
    "                            \"20-24\",\n",
    "                            \"25-34\",\n",
    "                            \"35-44\",\n",
    "                            \"45-54\",\n",
    "                            \"55-64\"\n",
    "                        ]\n",
    "                    }\n",
    "                },\n",
    "            {\n",
    "                \"code\": \"ContentsCode\",\n",
    "                 \"selection\": {\n",
    "                    \"filter\": \"item\",\n",
    "                    \"values\": [\n",
    "                            \"AA0003GI\"\n",
    "                    ]\n",
    "                }\n",
    "            }\n",
    "        ],\n",
    "        \"response\": {\n",
    "            \"format\": \"json-stat2\"\n",
    "        }\n",
    "    }\n",
    "url = \"https://api.scb.se/OV0104/v1/doris/en/ssd/START/AA/AA0003/AA0003F/IntGr5Kom\"\n",
    "\n",
    "response = session.post(url, json=query)"
   ]
  },
  {
   "cell_type": "code",
   "execution_count": 4,
   "id": "977f0cd5",
   "metadata": {},
   "outputs": [
    {
     "name": "stdout",
     "output_type": "stream",
     "text": [
      "<Response [200]>\n"
     ]
    }
   ],
   "source": [
    "print(response)"
   ]
  },
  {
   "cell_type": "code",
   "execution_count": 5,
   "id": "3da9e4c5",
   "metadata": {},
   "outputs": [],
   "source": [
    "data = response.json()"
   ]
  },
  {
   "cell_type": "code",
   "execution_count": null,
   "id": "1a0a0bb9",
   "metadata": {},
   "outputs": [],
   "source": [
    "print(data)"
   ]
  },
  {
   "cell_type": "code",
   "execution_count": 6,
   "id": "f3517146",
   "metadata": {},
   "outputs": [],
   "source": [
    "regions = data['dimension']['Region']['category']['label']"
   ]
  },
  {
   "cell_type": "code",
   "execution_count": 7,
   "id": "8880a09e",
   "metadata": {},
   "outputs": [
    {
     "data": {
      "text/plain": [
       "{'0114': 'Upplands Väsby',\n",
       " '0115': 'Vallentuna',\n",
       " '0117': 'Österåker',\n",
       " '0120': 'Värmdö',\n",
       " '0123': 'Järfälla',\n",
       " '0125': 'Ekerö',\n",
       " '0126': 'Huddinge',\n",
       " '0127': 'Botkyrka',\n",
       " '0128': 'Salem',\n",
       " '0136': 'Haninge',\n",
       " '0138': 'Tyresö',\n",
       " '0139': 'Upplands-Bro',\n",
       " '0140': 'Nykvarn',\n",
       " '0160': 'Täby',\n",
       " '0162': 'Danderyd',\n",
       " '0163': 'Sollentuna',\n",
       " '0180': 'Stockholm',\n",
       " '0181': 'Södertälje',\n",
       " '0182': 'Nacka',\n",
       " '0183': 'Sundbyberg',\n",
       " '0184': 'Solna',\n",
       " '0186': 'Lidingö',\n",
       " '0187': 'Vaxholm',\n",
       " '0188': 'Norrtälje',\n",
       " '0191': 'Sigtuna',\n",
       " '0192': 'Nynäshamn',\n",
       " '0305': 'Håbo',\n",
       " '0319': 'Älvkarleby',\n",
       " '0330': 'Knivsta',\n",
       " '0331': 'Heby',\n",
       " '0360': 'Tierp',\n",
       " '0380': 'Uppsala',\n",
       " '0381': 'Enköping',\n",
       " '0382': 'Östhammar',\n",
       " '0428': 'Vingåker',\n",
       " '0461': 'Gnesta',\n",
       " '0480': 'Nyköping',\n",
       " '0481': 'Oxelösund',\n",
       " '0482': 'Flen',\n",
       " '0483': 'Katrineholm',\n",
       " '0484': 'Eskilstuna',\n",
       " '0486': 'Strängnäs',\n",
       " '0488': 'Trosa',\n",
       " '0509': 'Ödeshög',\n",
       " '0512': 'Ydre',\n",
       " '0513': 'Kinda',\n",
       " '0560': 'Boxholm',\n",
       " '0561': 'Åtvidaberg',\n",
       " '0562': 'Finspång',\n",
       " '0563': 'Valdemarsvik',\n",
       " '0580': 'Linköping',\n",
       " '0581': 'Norrköping',\n",
       " '0582': 'Söderköping',\n",
       " '0583': 'Motala',\n",
       " '0584': 'Vadstena',\n",
       " '0586': 'Mjölby',\n",
       " '0604': 'Aneby',\n",
       " '0617': 'Gnosjö',\n",
       " '0642': 'Mullsjö',\n",
       " '0643': 'Habo',\n",
       " '0662': 'Gislaved',\n",
       " '0665': 'Vaggeryd',\n",
       " '0680': 'Jönköping',\n",
       " '0682': 'Nässjö',\n",
       " '0683': 'Värnamo',\n",
       " '0684': 'Sävsjö',\n",
       " '0685': 'Vetlanda',\n",
       " '0686': 'Eksjö',\n",
       " '0687': 'Tranås',\n",
       " '0760': 'Uppvidinge',\n",
       " '0761': 'Lessebo',\n",
       " '0763': 'Tingsryd',\n",
       " '0764': 'Alvesta',\n",
       " '0765': 'Älmhult',\n",
       " '0767': 'Markaryd',\n",
       " '0780': 'Växjö',\n",
       " '0781': 'Ljungby',\n",
       " '0821': 'Högsby',\n",
       " '0834': 'Torsås',\n",
       " '0840': 'Mörbylånga',\n",
       " '0860': 'Hultsfred',\n",
       " '0861': 'Mönsterås',\n",
       " '0862': 'Emmaboda',\n",
       " '0880': 'Kalmar',\n",
       " '0881': 'Nybro',\n",
       " '0882': 'Oskarshamn',\n",
       " '0883': 'Västervik',\n",
       " '0884': 'Vimmerby',\n",
       " '0885': 'Borgholm',\n",
       " '0980': 'Gotland',\n",
       " '1060': 'Olofström',\n",
       " '1080': 'Karlskrona',\n",
       " '1081': 'Ronneby',\n",
       " '1082': 'Karlshamn',\n",
       " '1083': 'Sölvesborg',\n",
       " '1214': 'Svalöv',\n",
       " '1230': 'Staffanstorp',\n",
       " '1231': 'Burlöv',\n",
       " '1233': 'Vellinge',\n",
       " '1256': 'Östra Göinge',\n",
       " '1257': 'Örkelljunga',\n",
       " '1260': 'Bjuv',\n",
       " '1261': 'Kävlinge',\n",
       " '1262': 'Lomma',\n",
       " '1263': 'Svedala',\n",
       " '1264': 'Skurup',\n",
       " '1265': 'Sjöbo',\n",
       " '1266': 'Hörby',\n",
       " '1267': 'Höör',\n",
       " '1270': 'Tomelilla',\n",
       " '1272': 'Bromölla',\n",
       " '1273': 'Osby',\n",
       " '1275': 'Perstorp',\n",
       " '1276': 'Klippan',\n",
       " '1277': 'Åstorp',\n",
       " '1278': 'Båstad',\n",
       " '1280': 'Malmö',\n",
       " '1281': 'Lund',\n",
       " '1282': 'Landskrona',\n",
       " '1283': 'Helsingborg',\n",
       " '1284': 'Höganäs',\n",
       " '1285': 'Eslöv',\n",
       " '1286': 'Ystad',\n",
       " '1287': 'Trelleborg',\n",
       " '1290': 'Kristianstad',\n",
       " '1291': 'Simrishamn',\n",
       " '1292': 'Ängelholm',\n",
       " '1293': 'Hässleholm',\n",
       " '1315': 'Hylte',\n",
       " '1380': 'Halmstad',\n",
       " '1381': 'Laholm',\n",
       " '1382': 'Falkenberg',\n",
       " '1383': 'Varberg',\n",
       " '1384': 'Kungsbacka',\n",
       " '1401': 'Härryda',\n",
       " '1402': 'Partille',\n",
       " '1407': 'Öckerö',\n",
       " '1415': 'Stenungsund',\n",
       " '1419': 'Tjörn',\n",
       " '1421': 'Orust',\n",
       " '1427': 'Sotenäs',\n",
       " '1430': 'Munkedal',\n",
       " '1435': 'Tanum',\n",
       " '1438': 'Dals-Ed',\n",
       " '1439': 'Färgelanda',\n",
       " '1440': 'Ale',\n",
       " '1441': 'Lerum',\n",
       " '1442': 'Vårgårda',\n",
       " '1443': 'Bollebygd',\n",
       " '1444': 'Grästorp',\n",
       " '1445': 'Essunga',\n",
       " '1446': 'Karlsborg',\n",
       " '1447': 'Gullspång',\n",
       " '1452': 'Tranemo',\n",
       " '1460': 'Bengtsfors',\n",
       " '1461': 'Mellerud',\n",
       " '1462': 'Lilla Edet',\n",
       " '1463': 'Mark',\n",
       " '1465': 'Svenljunga',\n",
       " '1466': 'Herrljunga',\n",
       " '1470': 'Vara',\n",
       " '1471': 'Götene',\n",
       " '1472': 'Tibro',\n",
       " '1473': 'Töreboda',\n",
       " '1480': 'Göteborg',\n",
       " '1481': 'Mölndal',\n",
       " '1482': 'Kungälv',\n",
       " '1484': 'Lysekil',\n",
       " '1485': 'Uddevalla',\n",
       " '1486': 'Strömstad',\n",
       " '1487': 'Vänersborg',\n",
       " '1488': 'Trollhättan',\n",
       " '1489': 'Alingsås',\n",
       " '1490': 'Borås',\n",
       " '1491': 'Ulricehamn',\n",
       " '1492': 'Åmål',\n",
       " '1493': 'Mariestad',\n",
       " '1494': 'Lidköping',\n",
       " '1495': 'Skara',\n",
       " '1496': 'Skövde',\n",
       " '1497': 'Hjo',\n",
       " '1498': 'Tidaholm',\n",
       " '1499': 'Falköping',\n",
       " '1715': 'Kil',\n",
       " '1730': 'Eda',\n",
       " '1737': 'Torsby',\n",
       " '1760': 'Storfors',\n",
       " '1761': 'Hammarö',\n",
       " '1762': 'Munkfors',\n",
       " '1763': 'Forshaga',\n",
       " '1764': 'Grums',\n",
       " '1765': 'Årjäng',\n",
       " '1766': 'Sunne',\n",
       " '1780': 'Karlstad',\n",
       " '1781': 'Kristinehamn',\n",
       " '1782': 'Filipstad',\n",
       " '1783': 'Hagfors',\n",
       " '1784': 'Arvika',\n",
       " '1785': 'Säffle',\n",
       " '1814': 'Lekeberg',\n",
       " '1860': 'Laxå',\n",
       " '1861': 'Hallsberg',\n",
       " '1862': 'Degerfors',\n",
       " '1863': 'Hällefors',\n",
       " '1864': 'Ljusnarsberg',\n",
       " '1880': 'Örebro',\n",
       " '1881': 'Kumla',\n",
       " '1882': 'Askersund',\n",
       " '1883': 'Karlskoga',\n",
       " '1884': 'Nora',\n",
       " '1885': 'Lindesberg',\n",
       " '1904': 'Skinnskatteberg',\n",
       " '1907': 'Surahammar',\n",
       " '1960': 'Kungsör',\n",
       " '1961': 'Hallstahammar',\n",
       " '1962': 'Norberg',\n",
       " '1980': 'Västerås',\n",
       " '1981': 'Sala',\n",
       " '1982': 'Fagersta',\n",
       " '1983': 'Köping',\n",
       " '1984': 'Arboga',\n",
       " '2021': 'Vansbro',\n",
       " '2023': 'Malung-Sälen',\n",
       " '2026': 'Gagnef',\n",
       " '2029': 'Leksand',\n",
       " '2031': 'Rättvik',\n",
       " '2034': 'Orsa',\n",
       " '2039': 'Älvdalen',\n",
       " '2061': 'Smedjebacken',\n",
       " '2062': 'Mora',\n",
       " '2080': 'Falun',\n",
       " '2081': 'Borlänge',\n",
       " '2082': 'Säter',\n",
       " '2083': 'Hedemora',\n",
       " '2084': 'Avesta',\n",
       " '2085': 'Ludvika',\n",
       " '2101': 'Ockelbo',\n",
       " '2104': 'Hofors',\n",
       " '2121': 'Ovanåker',\n",
       " '2132': 'Nordanstig',\n",
       " '2161': 'Ljusdal',\n",
       " '2180': 'Gävle',\n",
       " '2181': 'Sandviken',\n",
       " '2182': 'Söderhamn',\n",
       " '2183': 'Bollnäs',\n",
       " '2184': 'Hudiksvall',\n",
       " '2260': 'Ånge',\n",
       " '2262': 'Timrå',\n",
       " '2280': 'Härnösand',\n",
       " '2281': 'Sundsvall',\n",
       " '2282': 'Kramfors',\n",
       " '2283': 'Sollefteå',\n",
       " '2284': 'Örnsköldsvik',\n",
       " '2303': 'Ragunda',\n",
       " '2305': 'Bräcke',\n",
       " '2309': 'Krokom',\n",
       " '2313': 'Strömsund',\n",
       " '2321': 'Åre',\n",
       " '2326': 'Berg',\n",
       " '2361': 'Härjedalen',\n",
       " '2380': 'Östersund',\n",
       " '2401': 'Nordmaling',\n",
       " '2403': 'Bjurholm',\n",
       " '2404': 'Vindeln',\n",
       " '2409': 'Robertsfors',\n",
       " '2417': 'Norsjö',\n",
       " '2418': 'Malå',\n",
       " '2421': 'Storuman',\n",
       " '2422': 'Sorsele',\n",
       " '2425': 'Dorotea',\n",
       " '2460': 'Vännäs',\n",
       " '2462': 'Vilhelmina',\n",
       " '2463': 'Åsele',\n",
       " '2480': 'Umeå',\n",
       " '2481': 'Lycksele',\n",
       " '2482': 'Skellefteå',\n",
       " '2505': 'Arvidsjaur',\n",
       " '2506': 'Arjeplog',\n",
       " '2510': 'Jokkmokk',\n",
       " '2513': 'Överkalix',\n",
       " '2514': 'Kalix',\n",
       " '2518': 'Övertorneå',\n",
       " '2521': 'Pajala',\n",
       " '2523': 'Gällivare',\n",
       " '2560': 'Älvsbyn',\n",
       " '2580': 'Luleå',\n",
       " '2581': 'Piteå',\n",
       " '2582': 'Boden',\n",
       " '2583': 'Haparanda',\n",
       " '2584': 'Kiruna'}"
      ]
     },
     "execution_count": 7,
     "metadata": {},
     "output_type": "execute_result"
    }
   ],
   "source": [
    "regions"
   ]
  },
  {
   "cell_type": "code",
   "execution_count": 8,
   "id": "920e023a",
   "metadata": {},
   "outputs": [],
   "source": [
    "variable = data['dimension']['Bakgrund']['category']['label']"
   ]
  },
  {
   "cell_type": "code",
   "execution_count": 9,
   "id": "abcbf4d3",
   "metadata": {},
   "outputs": [
    {
     "data": {
      "text/plain": [
       "{'tot20-64': 'all 20-64 years of age',\n",
       " '20-24': '20-24 years',\n",
       " '25-34': 'age 25-34 years',\n",
       " '35-44': 'age 35-44 years',\n",
       " '45-54': 'age 45-54 years',\n",
       " '55-64': 'age 55-64 years'}"
      ]
     },
     "execution_count": 9,
     "metadata": {},
     "output_type": "execute_result"
    }
   ],
   "source": [
    "variable"
   ]
  },
  {
   "cell_type": "code",
   "execution_count": 10,
   "id": "3358eac4",
   "metadata": {},
   "outputs": [
    {
     "data": {
      "text/plain": [
       "{'1997': '1997',\n",
       " '1998': '1998',\n",
       " '1999': '1999',\n",
       " '2000': '2000',\n",
       " '2001': '2001',\n",
       " '2002': '2002',\n",
       " '2003': '2003',\n",
       " '2004': '2004',\n",
       " '2005': '2005',\n",
       " '2006': '2006',\n",
       " '2007': '2007',\n",
       " '2008': '2008',\n",
       " '2009': '2009',\n",
       " '2010': '2010',\n",
       " '2011': '2011',\n",
       " '2012': '2012',\n",
       " '2013': '2013',\n",
       " '2014': '2014',\n",
       " '2015': '2015',\n",
       " '2016': '2016',\n",
       " '2017': '2017',\n",
       " '2018': '2018',\n",
       " '2019': '2019',\n",
       " '2020': '2020',\n",
       " '2021': '2021',\n",
       " '2022': '2022',\n",
       " '2023': '2023'}"
      ]
     },
     "execution_count": 10,
     "metadata": {},
     "output_type": "execute_result"
    }
   ],
   "source": [
    "year = data['dimension']['Tid']['category']['label']\n",
    "year"
   ]
  },
  {
   "cell_type": "code",
   "execution_count": 24,
   "id": "7bdd2b56",
   "metadata": {},
   "outputs": [],
   "source": [
    "variable_codes = list(variable.keys())\n",
    "region_codes = list(regions.keys())\n",
    "year_codes = list(year.keys())\n",
    "values = data['value']"
   ]
  },
  {
   "cell_type": "code",
   "execution_count": 23,
   "id": "8b6c2455",
   "metadata": {},
   "outputs": [
    {
     "data": {
      "text/plain": [
       "['tot20-64', '20-24', '25-34', '35-44', '45-54', '55-64']"
      ]
     },
     "execution_count": 23,
     "metadata": {},
     "output_type": "execute_result"
    }
   ],
   "source": [
    "variable_label"
   ]
  },
  {
   "cell_type": "code",
   "execution_count": 35,
   "id": "8d21b634",
   "metadata": {},
   "outputs": [],
   "source": [
    "records = []\n",
    "index = 0\n",
    "for region_code in region_codes:\n",
    "    for variable_code in variable_codes:\n",
    "        for year_code in year_codes:    \n",
    "            records.append({\n",
    "                \"Region\": regions[region_code],\n",
    "                \"AgeVariable\": variable[variable_code],\n",
    "                \"Year\": year[year_code],\n",
    "                \"AvgDisposibleIncome\": values[index]\n",
    "            })\n",
    "            index += 1\n",
    "\n"
   ]
  },
  {
   "cell_type": "code",
   "execution_count": 36,
   "id": "d7493cd0",
   "metadata": {},
   "outputs": [],
   "source": [
    "import pandas as pd"
   ]
  },
  {
   "cell_type": "code",
   "execution_count": 37,
   "id": "cec2e2c2",
   "metadata": {},
   "outputs": [],
   "source": [
    "df = pd.DataFrame(records)"
   ]
  },
  {
   "cell_type": "code",
   "execution_count": 33,
   "id": "033ff106",
   "metadata": {},
   "outputs": [
    {
     "data": {
      "text/html": [
       "<div>\n",
       "<style scoped>\n",
       "    .dataframe tbody tr th:only-of-type {\n",
       "        vertical-align: middle;\n",
       "    }\n",
       "\n",
       "    .dataframe tbody tr th {\n",
       "        vertical-align: top;\n",
       "    }\n",
       "\n",
       "    .dataframe thead th {\n",
       "        text-align: right;\n",
       "    }\n",
       "</style>\n",
       "<table border=\"1\" class=\"dataframe\">\n",
       "  <thead>\n",
       "    <tr style=\"text-align: right;\">\n",
       "      <th></th>\n",
       "      <th>Region</th>\n",
       "      <th>AgeVariable</th>\n",
       "      <th>Year</th>\n",
       "      <th>AvgDisposibleIncome</th>\n",
       "    </tr>\n",
       "  </thead>\n",
       "  <tbody>\n",
       "    <tr>\n",
       "      <th>0</th>\n",
       "      <td>Upplands Väsby</td>\n",
       "      <td>tot20-64</td>\n",
       "      <td>1997</td>\n",
       "      <td>4.0</td>\n",
       "    </tr>\n",
       "    <tr>\n",
       "      <th>1</th>\n",
       "      <td>Upplands Väsby</td>\n",
       "      <td>tot20-64</td>\n",
       "      <td>1998</td>\n",
       "      <td>4.1</td>\n",
       "    </tr>\n",
       "    <tr>\n",
       "      <th>2</th>\n",
       "      <td>Upplands Väsby</td>\n",
       "      <td>tot20-64</td>\n",
       "      <td>1999</td>\n",
       "      <td>4.4</td>\n",
       "    </tr>\n",
       "    <tr>\n",
       "      <th>3</th>\n",
       "      <td>Upplands Väsby</td>\n",
       "      <td>tot20-64</td>\n",
       "      <td>2000</td>\n",
       "      <td>5.3</td>\n",
       "    </tr>\n",
       "    <tr>\n",
       "      <th>4</th>\n",
       "      <td>Upplands Väsby</td>\n",
       "      <td>tot20-64</td>\n",
       "      <td>2001</td>\n",
       "      <td>5.0</td>\n",
       "    </tr>\n",
       "  </tbody>\n",
       "</table>\n",
       "</div>"
      ],
      "text/plain": [
       "           Region AgeVariable  Year  AvgDisposibleIncome\n",
       "0  Upplands Väsby    tot20-64  1997                  4.0\n",
       "1  Upplands Väsby    tot20-64  1998                  4.1\n",
       "2  Upplands Väsby    tot20-64  1999                  4.4\n",
       "3  Upplands Väsby    tot20-64  2000                  5.3\n",
       "4  Upplands Väsby    tot20-64  2001                  5.0"
      ]
     },
     "execution_count": 33,
     "metadata": {},
     "output_type": "execute_result"
    }
   ],
   "source": [
    "df.head()"
   ]
  },
  {
   "cell_type": "code",
   "execution_count": 38,
   "id": "debadb2d",
   "metadata": {},
   "outputs": [
    {
     "data": {
      "text/html": [
       "<div>\n",
       "<style scoped>\n",
       "    .dataframe tbody tr th:only-of-type {\n",
       "        vertical-align: middle;\n",
       "    }\n",
       "\n",
       "    .dataframe tbody tr th {\n",
       "        vertical-align: top;\n",
       "    }\n",
       "\n",
       "    .dataframe thead th {\n",
       "        text-align: right;\n",
       "    }\n",
       "</style>\n",
       "<table border=\"1\" class=\"dataframe\">\n",
       "  <thead>\n",
       "    <tr style=\"text-align: right;\">\n",
       "      <th></th>\n",
       "      <th>Region</th>\n",
       "      <th>AgeVariable</th>\n",
       "      <th>Year</th>\n",
       "      <th>AvgDisposibleIncome</th>\n",
       "    </tr>\n",
       "  </thead>\n",
       "  <tbody>\n",
       "    <tr>\n",
       "      <th>0</th>\n",
       "      <td>Upplands Väsby</td>\n",
       "      <td>all 20-64 years of age</td>\n",
       "      <td>1997</td>\n",
       "      <td>4.0</td>\n",
       "    </tr>\n",
       "    <tr>\n",
       "      <th>1</th>\n",
       "      <td>Upplands Väsby</td>\n",
       "      <td>all 20-64 years of age</td>\n",
       "      <td>1998</td>\n",
       "      <td>4.1</td>\n",
       "    </tr>\n",
       "    <tr>\n",
       "      <th>2</th>\n",
       "      <td>Upplands Väsby</td>\n",
       "      <td>all 20-64 years of age</td>\n",
       "      <td>1999</td>\n",
       "      <td>4.4</td>\n",
       "    </tr>\n",
       "    <tr>\n",
       "      <th>3</th>\n",
       "      <td>Upplands Väsby</td>\n",
       "      <td>all 20-64 years of age</td>\n",
       "      <td>2000</td>\n",
       "      <td>5.3</td>\n",
       "    </tr>\n",
       "    <tr>\n",
       "      <th>4</th>\n",
       "      <td>Upplands Väsby</td>\n",
       "      <td>all 20-64 years of age</td>\n",
       "      <td>2001</td>\n",
       "      <td>5.0</td>\n",
       "    </tr>\n",
       "  </tbody>\n",
       "</table>\n",
       "</div>"
      ],
      "text/plain": [
       "           Region             AgeVariable  Year  AvgDisposibleIncome\n",
       "0  Upplands Väsby  all 20-64 years of age  1997                  4.0\n",
       "1  Upplands Väsby  all 20-64 years of age  1998                  4.1\n",
       "2  Upplands Väsby  all 20-64 years of age  1999                  4.4\n",
       "3  Upplands Väsby  all 20-64 years of age  2000                  5.3\n",
       "4  Upplands Väsby  all 20-64 years of age  2001                  5.0"
      ]
     },
     "execution_count": 38,
     "metadata": {},
     "output_type": "execute_result"
    }
   ],
   "source": [
    "df.head()"
   ]
  },
  {
   "cell_type": "code",
   "execution_count": 34,
   "id": "4e3299de",
   "metadata": {},
   "outputs": [
    {
     "data": {
      "text/plain": [
       "(46980, 4)"
      ]
     },
     "execution_count": 34,
     "metadata": {},
     "output_type": "execute_result"
    }
   ],
   "source": [
    "df.shape"
   ]
  },
  {
   "cell_type": "code",
   "execution_count": null,
   "id": "83924364",
   "metadata": {},
   "outputs": [],
   "source": [
    "\n",
    "data = response.json()\n",
    "\n",
    "# Step 2: Extract dimension labels\n",
    "regions = data['dimension']['Region']['category']['label']\n",
    "fuels = data['dimension']['Drivmedel']['category']['label']\n",
    "months = data['dimension']['Tid']['category']['label']\n",
    "\n",
    "# You used only one fuel, so get the label directly\n",
    "fuel_label = list(fuels.values())[0]\n",
    "\n",
    "# Step 3: Flatten into DataFrame\n",
    "region_codes = list(regions.keys())\n",
    "month_codes = list(months.keys())\n",
    "values = data['value']\n",
    "\n",
    "records = []\n",
    "index = 0\n",
    "\n",
    "for region_code in region_codes:\n",
    "    for month_code in month_codes:\n",
    "        records.append({\n",
    "            \"Region\": regions[region_code],\n",
    "            \"FuelType\": fuel_label,\n",
    "            \"YearMonth\": months[month_code],\n",
    "            \"NumberOfRegistration\": values[index]\n",
    "        })\n",
    "        index += 1\n",
    "\n",
    "df = pd.DataFrame(records)\n",
    "\n",
    "# Step 4: Done!\n",
    "print(df.head())"
   ]
  },
  {
   "cell_type": "code",
   "execution_count": null,
   "id": "600d71b3",
   "metadata": {},
   "outputs": [],
   "source": [
    "df[\"FuelType\"].value_counts()"
   ]
  },
  {
   "cell_type": "code",
   "execution_count": null,
   "id": "c31fb9af",
   "metadata": {},
   "outputs": [],
   "source": [
    "df.shape"
   ]
  },
  {
   "cell_type": "code",
   "execution_count": null,
   "id": "a18bb8d3",
   "metadata": {},
   "outputs": [],
   "source": [
    "df = pd.read_csv('vehicle_registration_by_fuel.csv')"
   ]
  },
  {
   "cell_type": "code",
   "execution_count": null,
   "id": "d203e023",
   "metadata": {},
   "outputs": [],
   "source": [
    "df.shape"
   ]
  },
  {
   "cell_type": "code",
   "execution_count": null,
   "id": "946ef92b",
   "metadata": {},
   "outputs": [],
   "source": [
    "df[\"FuelType\"].value_counts()"
   ]
  },
  {
   "cell_type": "code",
   "execution_count": null,
   "id": "9ebb1eae",
   "metadata": {},
   "outputs": [],
   "source": [
    "df[\"Region\"].value_counts()"
   ]
  },
  {
   "cell_type": "code",
   "execution_count": null,
   "id": "07158da4",
   "metadata": {},
   "outputs": [],
   "source": [
    "df[\"Region\"].unique()"
   ]
  },
  {
   "cell_type": "code",
   "execution_count": null,
   "id": "49edaa20",
   "metadata": {},
   "outputs": [],
   "source": []
  }
 ],
 "metadata": {
  "kernelspec": {
   "display_name": "data_analysis_env",
   "language": "python",
   "name": "python3"
  },
  "language_info": {
   "codemirror_mode": {
    "name": "ipython",
    "version": 3
   },
   "file_extension": ".py",
   "mimetype": "text/x-python",
   "name": "python",
   "nbconvert_exporter": "python",
   "pygments_lexer": "ipython3",
   "version": "3.13.5"
  }
 },
 "nbformat": 4,
 "nbformat_minor": 5
}
