{
 "cells": [
  {
   "cell_type": "code",
   "execution_count": null,
   "id": "68be20cd",
   "metadata": {},
   "outputs": [],
   "source": [
    "from pyscbwrapper import SCB"
   ]
  },
  {
   "cell_type": "code",
   "execution_count": null,
   "id": "14be8c29",
   "metadata": {},
   "outputs": [],
   "source": [
    "\n",
    "scb = SCB('en')"
   ]
  },
  {
   "cell_type": "code",
   "execution_count": null,
   "id": "7b638880",
   "metadata": {},
   "outputs": [],
   "source": [
    "scb.info()"
   ]
  },
  {
   "cell_type": "code",
   "execution_count": null,
   "id": "e6a9221b",
   "metadata": {},
   "outputs": [],
   "source": [
    "scb.go_down('TK')"
   ]
  },
  {
   "cell_type": "code",
   "execution_count": null,
   "id": "1e76e004",
   "metadata": {},
   "outputs": [],
   "source": [
    "scb.info()"
   ]
  },
  {
   "cell_type": "code",
   "execution_count": null,
   "id": "93ce2dce",
   "metadata": {},
   "outputs": [],
   "source": [
    "scb.go_down('TK1001')\n",
    "scb.info()"
   ]
  },
  {
   "cell_type": "code",
   "execution_count": null,
   "id": "8565ea84",
   "metadata": {},
   "outputs": [],
   "source": [
    "scb.go_down('TK1001A')\n",
    "scb.info()"
   ]
  },
  {
   "cell_type": "code",
   "execution_count": null,
   "id": "d8aca9ef",
   "metadata": {},
   "outputs": [],
   "source": [
    "scb.go_down('PersBilarDrivMedel')\n",
    "scb.info()"
   ]
  },
  {
   "cell_type": "code",
   "execution_count": null,
   "id": "3fc5ae5f",
   "metadata": {},
   "outputs": [],
   "source": [
    "scb.get_variables()"
   ]
  },
  {
   "cell_type": "code",
   "execution_count": null,
   "id": "794f8ec5",
   "metadata": {},
   "outputs": [],
   "source": [
    "import requests\n",
    "import json"
   ]
  },
  {
   "cell_type": "code",
   "execution_count": null,
   "id": "934d8781",
   "metadata": {},
   "outputs": [],
   "source": [
    "session = requests.Session()"
   ]
  },
  {
   "cell_type": "code",
   "execution_count": null,
   "id": "557895f1",
   "metadata": {},
   "outputs": [],
   "source": [
    "query = {\n",
    "  \"query\": [\n",
    "    {\n",
    "      \"code\": \"Drivmedel\",\n",
    "      \"selection\": {\n",
    "        \"filter\": \"item\",\n",
    "        \"values\": [\n",
    "          \"100\",\n",
    "          \"110\"\n",
    "        ]\n",
    "      }\n",
    "    }\n",
    "  ],\n",
    "  \"response\": {\n",
    "    \"format\": \"json\"\n",
    "  }\n",
    "}\n",
    "url = \"https://api.scb.se/OV0104/v1/doris/en/ssd/START/TK/TK1001/TK1001A/PersBilarDrivMedel\"\n",
    "\n",
    "response = session.post(url, json=query)"
   ]
  },
  {
   "cell_type": "code",
   "execution_count": null,
   "id": "ed7422a1",
   "metadata": {},
   "outputs": [],
   "source": [
    "print(response)"
   ]
  },
  {
   "cell_type": "code",
   "execution_count": null,
   "id": "fe884ecf",
   "metadata": {},
   "outputs": [],
   "source": [
    "response_json = json.loads(response.content.decode('utf-8-sig'))"
   ]
  },
  {
   "cell_type": "code",
   "execution_count": null,
   "id": "413e6789",
   "metadata": {},
   "outputs": [],
   "source": [
    "response_json"
   ]
  },
  {
   "cell_type": "code",
   "execution_count": null,
   "id": "a60d410d",
   "metadata": {},
   "outputs": [],
   "source": [
    "import pandas as pd"
   ]
  },
  {
   "cell_type": "code",
   "execution_count": null,
   "id": "6b3f401f",
   "metadata": {},
   "outputs": [],
   "source": [
    "# Create an empty list to store our rows\n",
    "data_rows = []\n",
    "\n",
    "# Loop through each item in the 'data' list\n",
    "for item in response_json['data']:\n",
    "    # The 'key' is a list of [Region, FuelType, YearMonth]\n",
    "    region = item['key'][0]\n",
    "    fuel_type = item['key'][1]\n",
    "    year_month = item['key'][2]\n",
    "    \n",
    "    # The 'values' is a list with the number of registrations\n",
    "    number_of_registrations = int(item['values'][0]) # Convert to integer\n",
    "    \n",
    "    # Append the extracted data as a dictionary to our list\n",
    "    data_rows.append({\n",
    "        'YearMonth': year_month,\n",
    "        'Region': region,\n",
    "        'FuelType': fuel_type,\n",
    "        'NumberOfRegistration': number_of_registrations\n",
    "    })\n",
    "\n",
    "# Create the pandas DataFrame from our list of dictionaries\n",
    "df = pd.DataFrame(data_rows)"
   ]
  },
  {
   "cell_type": "code",
   "execution_count": null,
   "id": "b648727f",
   "metadata": {},
   "outputs": [],
   "source": [
    "df.head(5)  # Preview first five entries"
   ]
  },
  {
   "cell_type": "code",
   "execution_count": null,
   "id": "53035202",
   "metadata": {},
   "outputs": [],
   "source": [
    "df.shape"
   ]
  },
  {
   "cell_type": "code",
   "execution_count": null,
   "id": "8126e88e",
   "metadata": {},
   "outputs": [],
   "source": [
    "df['FuelType'].value_counts()"
   ]
  },
  {
   "cell_type": "code",
   "execution_count": null,
   "id": "46c99380",
   "metadata": {},
   "outputs": [],
   "source": [
    "df['Region'].value_counts()"
   ]
  },
  {
   "cell_type": "code",
   "execution_count": null,
   "id": "d08c099c",
   "metadata": {},
   "outputs": [],
   "source": [
    "import requests\n",
    "import json"
   ]
  },
  {
   "cell_type": "code",
   "execution_count": null,
   "id": "c62dd8e9",
   "metadata": {},
   "outputs": [],
   "source": [
    "session = requests.Session()"
   ]
  },
  {
   "cell_type": "code",
   "execution_count": null,
   "id": "51c0f950",
   "metadata": {},
   "outputs": [],
   "source": [
    "query = {\n",
    "        \"query\": [\n",
    "            {\n",
    "                \"code\": \"Bakgrund\",\n",
    "                \"selection\": {\n",
    "                    \"filter\": \"vs:IntegrationBakgrundÅlder\",\n",
    "                    \"values\": [\n",
    "                            \"tot20-64\",\n",
    "                            \"20-24\",\n",
    "                            \"25-34\",\n",
    "                            \"35-44\",\n",
    "                            \"45-54\",\n",
    "                            \"55-64\"\n",
    "                        ]\n",
    "                    }\n",
    "                },\n",
    "            {\n",
    "                \"code\": \"ContentsCode\",\n",
    "                 \"selection\": {\n",
    "                    \"filter\": \"item\",\n",
    "                    \"values\": [\n",
    "                            \"AA0003GI\"\n",
    "                    ]\n",
    "                }\n",
    "            }\n",
    "        ],\n",
    "        \"response\": {\n",
    "            \"format\": \"json-stat2\"\n",
    "        }\n",
    "    }\n",
    "url = \"https://api.scb.se/OV0104/v1/doris/en/ssd/START/AA/AA0003/AA0003F/IntGr5Kom\"\n",
    "\n",
    "response = session.post(url, json=query)"
   ]
  },
  {
   "cell_type": "code",
   "execution_count": null,
   "id": "977f0cd5",
   "metadata": {},
   "outputs": [],
   "source": [
    "print(response)"
   ]
  },
  {
   "cell_type": "code",
   "execution_count": null,
   "id": "3da9e4c5",
   "metadata": {},
   "outputs": [],
   "source": [
    "data = response.json()"
   ]
  },
  {
   "cell_type": "code",
   "execution_count": null,
   "id": "033ff106",
   "metadata": {},
   "outputs": [],
   "source": [
    "import pandas as pd"
   ]
  },
  {
   "cell_type": "code",
   "execution_count": null,
   "id": "83924364",
   "metadata": {},
   "outputs": [],
   "source": [
    "\n",
    "data = response.json()\n",
    "\n",
    "# Step 2: Extract dimension labels\n",
    "regions = data['dimension']['Region']['category']['label']\n",
    "fuels = data['dimension']['Drivmedel']['category']['label']\n",
    "months = data['dimension']['Tid']['category']['label']\n",
    "\n",
    "# You used only one fuel, so get the label directly\n",
    "fuel_label = list(fuels.values())[0]\n",
    "\n",
    "# Step 3: Flatten into DataFrame\n",
    "region_codes = list(regions.keys())\n",
    "month_codes = list(months.keys())\n",
    "values = data['value']\n",
    "\n",
    "records = []\n",
    "index = 0\n",
    "\n",
    "for region_code in region_codes:\n",
    "    for month_code in month_codes:\n",
    "        records.append({\n",
    "            \"Region\": regions[region_code],\n",
    "            \"FuelType\": fuel_label,\n",
    "            \"YearMonth\": months[month_code],\n",
    "            \"NumberOfRegistration\": values[index]\n",
    "        })\n",
    "        index += 1\n",
    "\n",
    "df = pd.DataFrame(records)\n",
    "\n",
    "# Step 4: Done!\n",
    "print(df.head())"
   ]
  },
  {
   "cell_type": "code",
   "execution_count": null,
   "id": "600d71b3",
   "metadata": {},
   "outputs": [],
   "source": [
    "df[\"FuelType\"].value_counts()"
   ]
  },
  {
   "cell_type": "code",
   "execution_count": null,
   "id": "c31fb9af",
   "metadata": {},
   "outputs": [],
   "source": [
    "df.shape"
   ]
  },
  {
   "cell_type": "code",
   "execution_count": null,
   "id": "a18bb8d3",
   "metadata": {},
   "outputs": [],
   "source": [
    "df = pd.read_csv('vehicle_registration_by_fuel.csv')"
   ]
  },
  {
   "cell_type": "code",
   "execution_count": null,
   "id": "d203e023",
   "metadata": {},
   "outputs": [],
   "source": [
    "df.shape"
   ]
  },
  {
   "cell_type": "code",
   "execution_count": null,
   "id": "946ef92b",
   "metadata": {},
   "outputs": [],
   "source": [
    "df[\"FuelType\"].value_counts()"
   ]
  },
  {
   "cell_type": "code",
   "execution_count": null,
   "id": "9ebb1eae",
   "metadata": {},
   "outputs": [],
   "source": [
    "df[\"Region\"].value_counts()"
   ]
  },
  {
   "cell_type": "code",
   "execution_count": null,
   "id": "07158da4",
   "metadata": {},
   "outputs": [],
   "source": [
    "df[\"Region\"].unique()"
   ]
  },
  {
   "cell_type": "code",
   "execution_count": null,
   "id": "49edaa20",
   "metadata": {},
   "outputs": [],
   "source": []
  }
 ],
 "metadata": {
  "kernelspec": {
   "display_name": "data_analysis_env",
   "language": "python",
   "name": "python3"
  },
  "language_info": {
   "codemirror_mode": {
    "name": "ipython",
    "version": 3
   },
   "file_extension": ".py",
   "mimetype": "text/x-python",
   "name": "python",
   "nbconvert_exporter": "python",
   "pygments_lexer": "ipython3",
   "version": "3.13.5"
  }
 },
 "nbformat": 4,
 "nbformat_minor": 5
}
